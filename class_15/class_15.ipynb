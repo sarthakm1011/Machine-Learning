{
 "cells": [
  {
   "cell_type": "code",
   "execution_count": 1,
   "metadata": {},
   "outputs": [],
   "source": [
    "# Assignment\n",
    "# --------------\n",
    "# Do all the examples in pytorch documentation\n",
    "# Linear/Logistic regression optimization using Genetic Algorithms\n",
    "# Hindi To English Language Translator\n",
    "# implement open AI Gym example"
   ]
  },
  {
   "cell_type": "code",
   "execution_count": 2,
   "metadata": {},
   "outputs": [],
   "source": [
    "# Google news 3.5gb News Data\n",
    "# gensim\n",
    "# Spacy\n",
    "# FastText\n",
    "# Glove Vectors\n",
    "\n",
    "# Sentiment Analysis word by word"
   ]
  },
  {
   "cell_type": "code",
   "execution_count": null,
   "metadata": {},
   "outputs": [],
   "source": [
    "# Evolutionalry strategies\n",
    "# ------------\n",
    "# Swarm of points initialise\n",
    "# parallel computation to pick the direction\n",
    "# works on non differentiable points\n",
    "# Any loss function in which minima exists\n",
    "\n",
    "# Genetic Algorithms\n",
    "# 2 chromosomes\n",
    "# mean, shift(mutate), or a part of both\n",
    "# create new chromosome\n",
    "\n",
    "# Differential Evolution\n",
    "# "
   ]
  }
 ],
 "metadata": {
  "kernelspec": {
   "display_name": "Python 2",
   "language": "python",
   "name": "python2"
  },
  "language_info": {
   "codemirror_mode": {
    "name": "ipython",
    "version": 2
   },
   "file_extension": ".py",
   "mimetype": "text/x-python",
   "name": "python",
   "nbconvert_exporter": "python",
   "pygments_lexer": "ipython2",
   "version": "2.7.12"
  }
 },
 "nbformat": 4,
 "nbformat_minor": 2
}
