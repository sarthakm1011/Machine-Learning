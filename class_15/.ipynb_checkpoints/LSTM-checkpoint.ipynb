{
 "cells": [
  {
   "cell_type": "code",
   "execution_count": 2,
   "metadata": {},
   "outputs": [],
   "source": [
    "import torch\n",
    "import torch.nn as nn\n",
    "import torch.nn.functional as F\n",
    "import torch.optim as optim"
   ]
  },
  {
   "cell_type": "code",
   "execution_count": 14,
   "metadata": {},
   "outputs": [
    {
     "name": "stdout",
     "output_type": "stream",
     "text": [
      "tensor([[[-0.2219, -0.1523, -0.1093]],\n",
      "\n",
      "        [[-0.5302, -0.0478, -0.0874]],\n",
      "\n",
      "        [[-0.3949, -0.0266, -0.0578]],\n",
      "\n",
      "        [[-0.1881,  0.0340, -0.0527]],\n",
      "\n",
      "        [[-0.3633,  0.0779,  0.0662]]])\n",
      "(tensor([[[-0.3633,  0.0779,  0.0662]]]), tensor([[[-1.1421,  0.3910,  0.0783]]]))\n"
     ]
    }
   ],
   "source": [
    "# Expects all of LSTM's tensors to be 3D tensors.\n",
    "torch.manual_seed(1)\n",
    "\n",
    "lstm = nn.LSTM(3,3) # input_dim = 3, output_dim = 3\n",
    "inputs = [torch.randn(1,3) for _ in range(5)] # sequence of length = 5\n",
    "\n",
    "hidden = (torch.randn(1,1,3),\n",
    "         torch.rand(1,1,3))\n",
    "\n",
    "for i in inputs:\n",
    "    out, hidden = lstm(i.view(1,1,-1), hidden) #view function ???????????\n",
    "    \n",
    "inputs = torch.cat(inputs).view(len(inputs),1,-1) #cat function torch ????????\n",
    "hidden = (torch.randn(1,1,3), torch.randn(1,1,3)) # cleaning hidden state\n",
    "out, hidden = lstm(inputs, hidden)\n",
    "print out\n",
    "print hidden"
   ]
  },
  {
   "cell_type": "code",
   "execution_count": 18,
   "metadata": {},
   "outputs": [
    {
     "name": "stdout",
     "output_type": "stream",
     "text": [
      "{'Everybody': 5, 'ate': 2, 'apple': 4, 'that': 7, 'Read': 6, 'dog': 1, 'book': 8, 'the': 3, 'The': 0}\n"
     ]
    }
   ],
   "source": [
    "# SPEECH TAGGING USING LSTM\n",
    "def prepare_sequence(seq, to_ix):\n",
    "    idxs = [to_ix[w] for w in seq]\n",
    "    return torch.tensor(idxs, dtype=torch.long)\n",
    "\n",
    "training_data = [('The dog ate the apple'.split(),[\"DET\",\"NN\",\"V\",\"DET\",\"NN\"]),\n",
    "                 (\"Everybody Read that book\".split(),[\"NN\",\"V\",\"DET\",\"NN\"])]\n",
    "                 \n",
    "word_to_ix = {}\n",
    "\n",
    "for sent, tags in training_data:\n",
    "    for word in sent:\n",
    "        if word not in word_to_ix:\n",
    "            word_to_ix[word] = len(word_to_ix)\n",
    "print word_to_ix\n",
    "\n",
    "tag_to_ix = {\"DET\":0, \"NN\":1, \"V\":2}\n",
    "\n",
    "EMBEDDING_DIM = 6\n",
    "HIDDEN_DIM = 6\n"
   ]
  },
  {
   "cell_type": "code",
   "execution_count": 19,
   "metadata": {},
   "outputs": [],
   "source": [
    "# best way to sort a Dictionary????????"
   ]
  },
  {
   "cell_type": "code",
   "execution_count": 22,
   "metadata": {},
   "outputs": [],
   "source": [
    "# Create the Model \n",
    "class LSTMTagger(nn.Module):\n",
    "    def __init__(self, embedding_dim, hidden_dim, vocab_size, tagset_size):\n",
    "        super(LSTMTagger,self).__init__()\n",
    "        \n",
    "        self.hidden_dim = hidden_dim\n",
    "        self.word_embeddings = nn.Embedding(vocab_size, embedding_dim) #word embeddings as inputs\n",
    "        self.lstm = nn.LSTM(embedding_dim,hidden_dim) # maps hidden space to tag space\n",
    "        self.hidden2tag = nn.Linear(hidden_dim, tagset_size)\n",
    "        self.hidden = self.init_hidden()\n",
    "        \n",
    "    def init_hidden(self):\n",
    "        # (num_layers, minibatch_size, hidden_dim)\n",
    "        return (torch.zeros(1,1,self.hidden_dim),\n",
    "               torch.zeros(1,1,self.hidden_dim))\n",
    "    \n",
    "    \n",
    "    def forward(self,sentence):\n",
    "        embeds = self.word_embeddings(sentence)\n",
    "        lstm_out, self.hidden = self.lstm(embeds.view(len(sentence),1,-1),self.hidden)\n",
    "        tag_space = self.hidden2tag(lstm_out.view(len(sentence),-1))\n",
    "        tag_scores = F.log_softmax(tag_space, dim=1)\n",
    "        return tag_scores"
   ]
  },
  {
   "cell_type": "code",
   "execution_count": 23,
   "metadata": {},
   "outputs": [],
   "source": [
    "# INITIALISING\n",
    "model = LSTMTagger(EMBEDDING_DIM, HIDDEN_DIM, len(word_to_ix), len(tag_to_ix))\n",
    "loss_function = nn.NLLLoss()\n",
    "optimizer = optim.SGD(model.parameters(), lr=0.1)"
   ]
  },
  {
   "cell_type": "code",
   "execution_count": 24,
   "metadata": {},
   "outputs": [
    {
     "name": "stdout",
     "output_type": "stream",
     "text": [
      "tensor([[-1.3043, -0.9473, -1.0763],\n",
      "        [-1.2956, -0.9301, -1.1035],\n",
      "        [-1.3964, -0.9481, -1.0078],\n",
      "        [-1.3005, -0.9466, -1.0802],\n",
      "        [-1.2084, -1.0743, -1.0222]])\n"
     ]
    }
   ],
   "source": [
    "with torch.no_grad():\n",
    "    inputs = prepare_sequence(training_data[0][0], word_to_ix)\n",
    "    tag_scores = model(inputs)\n",
    "    print tag_scores"
   ]
  },
  {
   "cell_type": "code",
   "execution_count": 27,
   "metadata": {},
   "outputs": [],
   "source": [
    "# TRAINING\n",
    "for epoch in range(300):\n",
    "    for sentence, tags in training_data:\n",
    "        model.zero_grad()\n",
    "        model.hidden = model.init_hidden()\n",
    "        sentence_in = prepare_sequence(sentence, word_to_ix)\n",
    "        targets = prepare_sequence(tags, tag_to_ix)\n",
    "        \n",
    "        tag_scores = model(sentence_in)\n",
    "        loss = loss_function(tag_scores, targets)\n",
    "        loss.backward()\n",
    "        optimizer.step()"
   ]
  },
  {
   "cell_type": "code",
   "execution_count": null,
   "metadata": {},
   "outputs": [],
   "source": [
    "#Differnce between model.zero_grad and optimizer.zero_grad() ?????????"
   ]
  },
  {
   "cell_type": "code",
   "execution_count": 28,
   "metadata": {},
   "outputs": [
    {
     "name": "stdout",
     "output_type": "stream",
     "text": [
      "tensor([[-0.0911, -2.6834, -3.9746],\n",
      "        [-3.8265, -0.0349, -4.3787],\n",
      "        [-3.6292, -4.7611, -0.0357],\n",
      "        [-0.0388, -4.0810, -3.8538],\n",
      "        [-4.4154, -0.0127, -7.5296]])\n"
     ]
    }
   ],
   "source": [
    "with torch.no_grad():\n",
    "    inputs = prepare_sequence(training_data[0][0], word_to_ix)\n",
    "    tag_scores = model(inputs)\n",
    "    print tag_scores"
   ]
  },
  {
   "cell_type": "code",
   "execution_count": 41,
   "metadata": {},
   "outputs": [
    {
     "name": "stdout",
     "output_type": "stream",
     "text": [
      "tensor([ 0,  1,  2,  0,  1])\n"
     ]
    }
   ],
   "source": [
    "values, indices = torch.max(tag_scores,1)\n",
    "print indices"
   ]
  },
  {
   "cell_type": "code",
   "execution_count": 39,
   "metadata": {},
   "outputs": [],
   "source": [
    "# {\"DET\":0, \"NN\":1, \"V\":2}\n",
    "# 0 1 2 0 1\n",
    "# DET NN V DET NN"
   ]
  }
 ],
 "metadata": {
  "kernelspec": {
   "display_name": "Python 2",
   "language": "python",
   "name": "python2"
  },
  "language_info": {
   "codemirror_mode": {
    "name": "ipython",
    "version": 2
   },
   "file_extension": ".py",
   "mimetype": "text/x-python",
   "name": "python",
   "nbconvert_exporter": "python",
   "pygments_lexer": "ipython2",
   "version": "2.7.12"
  }
 },
 "nbformat": 4,
 "nbformat_minor": 2
}
