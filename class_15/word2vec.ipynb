{
 "cells": [
  {
   "cell_type": "code",
   "execution_count": 38,
   "metadata": {},
   "outputs": [],
   "source": [
    "import numpy as np\n",
    "import torch\n",
    "from torch.autograd import Variable\n",
    "import torch.nn.functional as F\n",
    "from torch import optim"
   ]
  },
  {
   "cell_type": "code",
   "execution_count": 1,
   "metadata": {},
   "outputs": [],
   "source": [
    "corpus = [\n",
    "    'he is a king',\n",
    "    'she is a queen',\n",
    "    'he is a man',\n",
    "    'she is a woman',\n",
    "    'warsaw is poland capital',\n",
    "    'berlin is germany capital',\n",
    "    'paris is france capital',\n",
    "]\n",
    "\n",
    "# Create a vocabulary of unique words from this\n",
    "\n",
    "# In real implementation we would have to perform case normalization, removing some punctuation etc,\n",
    "#but for simplicity let’s use this nice and clean data"
   ]
  },
  {
   "cell_type": "code",
   "execution_count": 2,
   "metadata": {},
   "outputs": [],
   "source": [
    "def tokenize_corpus(corpus):\n",
    "    tokens = [x.split() for x in corpus]\n",
    "    return tokens"
   ]
  },
  {
   "cell_type": "code",
   "execution_count": 4,
   "metadata": {},
   "outputs": [
    {
     "name": "stdout",
     "output_type": "stream",
     "text": [
      "[['he', 'is', 'a', 'king'], ['she', 'is', 'a', 'queen'], ['he', 'is', 'a', 'man'], ['she', 'is', 'a', 'woman'], ['warsaw', 'is', 'poland', 'capital'], ['berlin', 'is', 'germany', 'capital'], ['paris', 'is', 'france', 'capital']]\n"
     ]
    }
   ],
   "source": [
    "tokenized_corpus = tokenize_corpus(corpus)\n",
    "print tokenized_corpus"
   ]
  },
  {
   "cell_type": "code",
   "execution_count": 8,
   "metadata": {},
   "outputs": [
    {
     "name": "stdout",
     "output_type": "stream",
     "text": [
      "15\n",
      "['he', 'is', 'a', 'king', 'she', 'queen', 'man', 'woman', 'warsaw', 'poland', 'capital', 'berlin', 'germany', 'paris', 'france']\n"
     ]
    }
   ],
   "source": [
    "vocabulary = []\n",
    "for sentence in tokenized_corpus:\n",
    "    for token in sentence:\n",
    "        if token not in vocabulary:\n",
    "            vocabulary.append(token)\n",
    "            \n",
    "# ask bob ?????????\n",
    "word2idx = {w: idx for (idx, w) in enumerate(vocabulary)}\n",
    "idx2word = {idx: w for (idx, w) in enumerate(vocabulary)}\n",
    "\n",
    "vocabulary_size = len(vocabulary)\n",
    "print len(vocabulary)\n",
    "print vocabulary"
   ]
  },
  {
   "cell_type": "code",
   "execution_count": 16,
   "metadata": {},
   "outputs": [],
   "source": [
    "window_size = 2\n",
    "idx_pairs = []\n",
    "\n",
    "for sentence in tokenized_corpus:\n",
    "    indices = [word2idx[word] for word in sentence] # take out word, change this word to index\n",
    "    \n",
    "    # for each word treated as center word\n",
    "    for center_word_pos in range(len(indices)):\n",
    "        \n",
    "        # for each window position\n",
    "        for w in range(-window_size, window_size+1):\n",
    "            context_word_pos = center_word_pos + w\n",
    "            \n",
    "            if context_word_pos<0 or context_word_pos>=len(indices) or center_word_pos == context_word_pos:\n",
    "                continue\n",
    "            context_word_idx = indices[context_word_pos]\n",
    "            idx_pairs.append((indices[center_word_pos], context_word_idx))\n",
    "            \n",
    "idx_pairs = np.array(idx_pairs)"
   ]
  },
  {
   "cell_type": "code",
   "execution_count": 17,
   "metadata": {},
   "outputs": [],
   "source": [
    "# skip gram\n",
    "# For single pair, Prob(context/center)  e.g. P(king/is)\n",
    "\n",
    "# Not a good approach\n",
    "# max { multiplication(center) * multiplicatin(context) P(context/center) } \n",
    "\n",
    "# Negative log likelihood\n",
    "# min { -log(multiplication(center) * multiplicatin(context) P(context/center)) }\n",
    "\n",
    "# Loss = -1/T summation(center) * summation(context) log( P(context/center) )\n",
    "\n",
    "# p(context/center) = exp(u.context * v.Center) / summation(exp(u.i * v.Center)) (i -> vocab)"
   ]
  },
  {
   "cell_type": "code",
   "execution_count": 23,
   "metadata": {},
   "outputs": [],
   "source": [
    "# Input Layer\n",
    "def get_input_layer(word_idx):\n",
    "    x = torch.zeros(vocabulary_size).float()\n",
    "    x[word_idx] = 1.0\n",
    "    return x"
   ]
  },
  {
   "cell_type": "code",
   "execution_count": 44,
   "metadata": {},
   "outputs": [
    {
     "name": "stderr",
     "output_type": "stream",
     "text": [
      "/usr/local/lib/python2.7/dist-packages/ipykernel_launcher.py:23: UserWarning: invalid index of a 0-dim tensor. This will be an error in PyTorch 0.5. Use tensor.item() to convert a 0-dim tensor to a Python number\n"
     ]
    },
    {
     "name": "stdout",
     "output_type": "stream",
     "text": [
      "loss at 0: tensor(0.1014)\n",
      "loss at 10: tensor(1.00000e-02 *\n",
      "       9.5724)\n",
      "loss at 20: tensor(1.00000e-02 *\n",
      "       9.0294)\n",
      "loss at 30: tensor(1.00000e-02 *\n",
      "       8.5159)\n",
      "loss at 40: tensor(1.00000e-02 *\n",
      "       8.0377)\n",
      "loss at 50: tensor(1.00000e-02 *\n",
      "       7.6342)\n",
      "loss at 60: tensor(1.00000e-02 *\n",
      "       7.3529)\n",
      "loss at 70: tensor(1.00000e-02 *\n",
      "       7.0874)\n",
      "loss at 80: tensor(1.00000e-02 *\n",
      "       6.8457)\n",
      "loss at 90: tensor(1.00000e-02 *\n",
      "       6.6479)\n"
     ]
    }
   ],
   "source": [
    "# TRAINING\n",
    "\n",
    "# Hidden Layer\n",
    "embedding_dims = 5\n",
    "w1 = Variable(torch.randn(embedding_dims, vocabulary_size).float(), requires_grad=True)\n",
    "w2 = Variable(torch.randn(vocabulary_size, embedding_dims).float(), requires_grad=True)\n",
    "num_epochs = 100\n",
    "learning_rate = 0.001\n",
    "\n",
    "for epoch in range(num_epochs):\n",
    "    loss_val = 0\n",
    "    for data, target in idx_pairs:\n",
    "        x = Variable(get_input_layer(data)).float()\n",
    "        y_true = Variable(torch.from_numpy(np.array([target])).long())\n",
    "        \n",
    "        # Output Layer\n",
    "        z1 = torch.matmul(w1,x)\n",
    "        z2 = torch.matmul(w2,z1)\n",
    "        \n",
    "        log_softmax = F.log_softmax(z2, dim=0)\n",
    "        \n",
    "        loss = F.nll_loss(log_softmax.view(1,-1), y_true)\n",
    "        loss_val += loss.data[0]\n",
    "        \n",
    "        loss.backward()\n",
    "        \n",
    "        optimizer = optim.Adam([w1,w2], lr=learning_rate)\n",
    "        optimizer.step()\n",
    "        optimizer.zero_grad()\n",
    "        \n",
    "#         w1.data -= learning_rate * w1.grad.data\n",
    "#         w2.data -= learning_rate * w2.grad.data\n",
    "#         w1.grad.data.zero_()\n",
    "#         w2.grad.data.zero_()\n",
    "        \n",
    "    if epoch % 10 == 0:\n",
    "        print 'loss at ' + str(epoch) + ': ' + str(loss/len(idx_pairs))"
   ]
  },
  {
   "cell_type": "code",
   "execution_count": null,
   "metadata": {},
   "outputs": [],
   "source": [
    "# Now How to Extract Vectors from this????????????"
   ]
  }
 ],
 "metadata": {
  "kernelspec": {
   "display_name": "Python 2",
   "language": "python",
   "name": "python2"
  },
  "language_info": {
   "codemirror_mode": {
    "name": "ipython",
    "version": 2
   },
   "file_extension": ".py",
   "mimetype": "text/x-python",
   "name": "python",
   "nbconvert_exporter": "python",
   "pygments_lexer": "ipython2",
   "version": "2.7.12"
  }
 },
 "nbformat": 4,
 "nbformat_minor": 2
}
