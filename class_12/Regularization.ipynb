{
 "cells": [
  {
   "cell_type": "code",
   "execution_count": 4,
   "metadata": {},
   "outputs": [],
   "source": [
    "# REGULARIZATION\n",
    "import torch\n",
    "import numpy as np \n",
    "import torchvision"
   ]
  },
  {
   "cell_type": "code",
   "execution_count": null,
   "metadata": {},
   "outputs": [],
   "source": [
    "# KAIMING INITIALISATION\n",
    "\n",
    "# Segment Network for example\n",
    "class segment_network(nn.Module):\n",
    "    @staticmethod\n",
    "    def weight_init(m):\n",
    "        if isinstance(m, nn.Linear):\n",
    "            torch.nn.init.kaiming_normal(m.weight.data)"
   ]
  },
  {
   "cell_type": "code",
   "execution_count": null,
   "metadata": {},
   "outputs": [],
   "source": [
    "currentError += criterion:forward(module:forward(inputs), target)\n",
    "module: updateGradInput(inputs, criterion:updateGradInput(module.ouptut, target))\n",
    "module: accUpdateGradParameters(inputs, criterion.gradInput, currentLearningRate)\n",
    "\n",
    "def regularize_params(network, l1_weight, l2_weight):\n",
    "    local_parameters,_ = network:"
   ]
  },
  {
   "cell_type": "code",
   "execution_count": null,
   "metadata": {},
   "outputs": [],
   "source": [
    "# REGULARIZATION\n",
    "# To avoid overfitting\n",
    "\n",
    "# 1)\n",
    "# L2 and L1 regularization\n",
    "# cost function = loss(eg. binary cross entropy) + regularization term(L2/L1)\n",
    "# As a new regularization term is added so the weights calculated assumes that the \n",
    "# required weights are less to minimize the cot function. Hence underfitting the data.\n",
    "# L1 only used if high compression is to be done.\n",
    "\n",
    "# L2 = (lambda / 2m) * summation(w**2)\n",
    "# L1 = (lambda / 2m) * summation(w) \n",
    "\n",
    "# 2)\n",
    "# Dropout\n",
    "# At each iteration some random nodes are removed along incoming and outgoing connections.\n",
    "# Ensemble model\n",
    "\n",
    "# 3)\n",
    "# Data Augmentation\n",
    "# Eg. Shear, shift, scale, rotate to create new data from the same images for better accuracy.\n",
    "\n",
    "# 4)\n",
    "# Early Stopping\n",
    "# Finding the point of overfitting by checking the validation error. Stopping it early.\n",
    "# Patience = Till how many epochs allow validation error to decrease\n",
    "\n",
    "# 5)\n",
    "# P-Normalization"
   ]
  }
 ],
 "metadata": {
  "kernelspec": {
   "display_name": "Python 2",
   "language": "python",
   "name": "python2"
  },
  "language_info": {
   "codemirror_mode": {
    "name": "ipython",
    "version": 2
   },
   "file_extension": ".py",
   "mimetype": "text/x-python",
   "name": "python",
   "nbconvert_exporter": "python",
   "pygments_lexer": "ipython2",
   "version": "2.7.12"
  }
 },
 "nbformat": 4,
 "nbformat_minor": 2
}
