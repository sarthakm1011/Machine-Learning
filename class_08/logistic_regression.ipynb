{
 "cells": [
  {
   "cell_type": "code",
   "execution_count": 1,
   "metadata": {},
   "outputs": [],
   "source": [
    "import numpy as np \n",
    "import matplotlib.pyplot as plt\n",
    "%matplotlib inline\n",
    "%matplotlib inline\n",
    "# To change the default values\n",
    "params = {\"ytick.color\" : \"w\",\n",
    "          \"xtick.color\" : \"w\",\n",
    "          \"axes.labelcolor\" : \"w\",\n",
    "          \"axes.edgecolor\" : \"w\"}\n",
    "            \n",
    "plt.rcParams.update(params)\n",
    "from sklearn.datasets import make_regression\n",
    "import seaborn as sns"
   ]
  },
  {
   "cell_type": "code",
   "execution_count": 6,
   "metadata": {},
   "outputs": [
    {
     "name": "stdout",
     "output_type": "stream",
     "text": [
      "(500, 2) (500, 2)\n"
     ]
    }
   ],
   "source": [
    "# LOGISTIC REGRESSION\n",
    "\n",
    "mean_01 = np.array([1,0.5])\n",
    "cov_01 = np.array([[1,0.1],[0.1,1.2]])\n",
    "\n",
    "mean_02 = np.array([4,5])\n",
    "cov_02 = np.array([[1,0.1],[0.1,1.2]])\n",
    "\n",
    "dist_01 = np.random.multivariate_normal(mean_01,cov_01,500)\n",
    "dist_02 = np.random.multivariate_normal(mean_02,cov_02,500)\n",
    "print dist_01.shape, dist_02.shape"
   ]
  },
  {
   "cell_type": "code",
   "execution_count": 4,
   "metadata": {},
   "outputs": [
    {
     "name": "stdout",
     "output_type": "stream",
     "text": [
      "1000\n",
      "3\n",
      "(1000, 3)\n",
      "[ 2.48392179  2.76348055  0.5       ]\n"
     ]
    },
    {
     "data": {
      "image/png": "[encoded data removed]",
      "text/plain": [
       "<Figure size 432x288 with 1 Axes>"
      ]
     },
     "metadata": {},
     "output_type": "display_data"
    }
   ],
   "source": [
    "r = dist_01.shape[0] + dist_02.shape[0]\n",
    "print r\n",
    "c = dist_01.shape[1] + 1\n",
    "print c\n",
    "data = np.zeros((r,c))\n",
    "print data.shape\n",
    "\n",
    "data[:dist_01.shape[0], :2] = dist_01\n",
    "data[dist_01.shape[0]:, :2] = dist_02\n",
    "data[dist_01.shape[0]:,-1] = 1.0\n",
    "\n",
    "print data.mean(axis=0)\n",
    "\n",
    "plt.figure(0)\n",
    "plt.xlim(-5,10)\n",
    "plt.ylim(-5,10)\n",
    "\n",
    "plt.scatter(dist_01[:,0], dist_01[:,1])\n",
    "plt.scatter(dist_02[:,0], dist_02[:,1], color='r')\n",
    "plt.grid(True)\n",
    "plt.show()"
   ]
  },
  {
   "cell_type": "code",
   "execution_count": 34,
   "metadata": {},
   "outputs": [
    {
     "name": "stdout",
     "output_type": "stream",
     "text": [
      "(800, 2) (200, 2)\n",
      "(800,) (200,)\n"
     ]
    }
   ],
   "source": [
    "split = int(0.8 * data.shape[0])\n",
    "\n",
    "x_train = data[:split,:-1]\n",
    "x_test = data[split:,:-1]\n",
    "\n",
    "y_train = data[:split,-1]\n",
    "y_test = data[split:,-1]\n",
    "\n",
    "print x_train.shape, x_test.shape\n",
    "print y_train.shape, y_test.shape"
   ]
  },
  {
   "cell_type": "code",
   "execution_count": 35,
   "metadata": {},
   "outputs": [],
   "source": [
    "def hypothesis(x,w,b):\n",
    "    h = (x*w).sum() + b\n",
    "    return sigmoid(h)\n",
    "    \n",
    "    \n",
    "def sigmoid(z):\n",
    "    return 1.0 / (1 + np.exp(-1 * z))\n",
    "    \n",
    "    \n",
    "def get_error(y_true,x,w,b):\n",
    "    err = 0.0\n",
    "    m = x.shape[0]\n",
    "    for ix in range(m):\n",
    "        # For each compute the binary cross entropy\n",
    "        if y_true[ix] == 1:\n",
    "            err += -1.0 * np.log2(hypothesis(x[ix], w, b))\n",
    "        else:\n",
    "            err += -1.0 * 1 - np.log2(hypothesis(x[ix], w, b))\n",
    "    err = err / m\n",
    "    return err\n",
    "    \n",
    "    # error gradient\n",
    "def get_gradients(y_true,x,w,b):\n",
    "    grad_w = np.zeros(w.shape)\n",
    "    grad_b = 0.0\n",
    "    m = x.shape[0]\n",
    "    \n",
    "    for ix in range(m):\n",
    "        grad_w += (y_true[ix] - hypothesis(x[ix],w,b))*(x[ix])*-1\n",
    "        grad_b += (y_true[ix] - hypothesis(x[ix],w,b))* (-1)\n",
    "        \n",
    "        grad_w = grad_w / m\n",
    "        grad_b = grad_b / m\n",
    "        \n",
    "    return [grad_w,grad_b]\n",
    "    \n",
    "def gradients_descent(x,y_true,w,b,learning_rate=0.02):\n",
    "    error = get_error(y_true,x,w,b)\n",
    "    [grad_w,grad_b] = get_gradients(y_true,x,w,b)\n",
    "    w = w - learning_rate*grad_w\n",
    "    b = b - learning_rate*grad_b\n",
    "    return error,w,b\n",
    "\n",
    "    \n",
    "def predict(x,w,b):\n",
    "    prob = hypothesis(x,w,b)\n",
    "    \n",
    "    if prob < 0.5:\n",
    "        return 0\n",
    "    else:\n",
    "        return 1\n",
    "    \n",
    "    \n",
    "def get_accuracy(x_test,y_test,w,b):\n",
    "    y_pred = []\n",
    "    for ix in range(y_test.shape[0]):\n",
    "        y_pred.append(predict(x_test,w,b))\n",
    "    y_pred  = np.asarray(y_pred)\n",
    "    return float((y_pred==y_test).sum()/y_test.shape[0])"
   ]
  },
  {
   "cell_type": "code",
   "execution_count": 36,
   "metadata": {},
   "outputs": [],
   "source": [
    "for ix in range(100):\n",
    "    l,w,b = gradients_descent(x_train,y_train,w,b)\n",
    "    acc.append(get_accuracy(x_test,y_test,w,b))\n",
    "    loss.append(l)"
   ]
  },
  {
   "cell_type": "code",
   "execution_count": 37,
   "metadata": {},
   "outputs": [
    {
     "data": {
      "image/png": "[encoded data removed]",
      "text/plain": [
       "<Figure size 432x288 with 1 Axes>"
      ]
     },
     "metadata": {},
     "output_type": "display_data"
    },
    {
     "data": {
      "image/png": "[encoded data removed]",
      "text/plain": [
       "<Figure size 432x288 with 1 Axes>"
      ]
     },
     "metadata": {},
     "output_type": "display_data"
    }
   ],
   "source": [
    "plt.figure(0)\n",
    "plt.plot(loss)\n",
    "\n",
    "plt.figure(1)\n",
    "plt.plot(acc)\n",
    "\n",
    "plt.show()"
   ]
  },
  {
   "cell_type": "code",
   "execution_count": 38,
   "metadata": {},
   "outputs": [
    {
     "data": {
      "text/plain": [
       "1.0"
      ]
     },
     "execution_count": 38,
     "metadata": {},
     "output_type": "execute_result"
    }
   ],
   "source": [
    "acc[-1]"
   ]
  },
  {
   "cell_type": "code",
   "execution_count": null,
   "metadata": {},
   "outputs": [],
   "source": []
  }
 ],
 "metadata": {
  "kernelspec": {
   "display_name": "Python 2",
   "language": "python",
   "name": "python2"
  },
  "language_info": {
   "codemirror_mode": {
    "name": "ipython",
    "version": 2
   },
   "file_extension": ".py",
   "mimetype": "text/x-python",
   "name": "python",
   "nbconvert_exporter": "python",
   "pygments_lexer": "ipython2",
   "version": "2.7.12"
  }
 },
 "nbformat": 4,
 "nbformat_minor": 2
}
