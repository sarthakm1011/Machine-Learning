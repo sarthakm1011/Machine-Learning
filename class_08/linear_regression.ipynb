{
 "cells": [
  {
   "cell_type": "code",
   "execution_count": 14,
   "metadata": {},
   "outputs": [],
   "source": [
    "# LINEAR REGRESSION\n",
    "import numpy as np \n",
    "import matplotlib.pyplot as plt\n",
    "%matplotlib inline\n",
    "%matplotlib inline\n",
    "# To change the default values\n",
    "params = {\"ytick.color\" : \"w\",\n",
    "          \"xtick.color\" : \"w\",\n",
    "          \"axes.labelcolor\" : \"w\",\n",
    "          \"axes.edgecolor\" : \"w\"}\n",
    "            \n",
    "plt.rcParams.update(params)\n",
    "from sklearn.datasets import make_regression\n",
    "import seaborn as sns"
   ]
  },
  {
   "cell_type": "code",
   "execution_count": 25,
   "metadata": {},
   "outputs": [
    {
     "name": "stdout",
     "output_type": "stream",
     "text": [
      "(500, 1) (500,) 49.9541946096\n",
      "(400, 1) (100, 1)\n",
      "(400,) (100,)\n"
     ]
    }
   ],
   "source": [
    "x, y, cof = make_regression(n_samples=500, n_features=1, bias=4.2, noise=7.1, coef=True)\n",
    "print x.shape, y.shape, cof\n",
    "\n",
    "split = int(0.8* x.shape[0])\n",
    "x_train = x[:split]\n",
    "x_test = x[split:]\n",
    "\n",
    "y_train = y[:split]\n",
    "y_test = y[split:]\n",
    "\n",
    "print x_train.shape, x_test.shape\n",
    "print y_train.shape, y_test.shape"
   ]
  },
  {
   "cell_type": "code",
   "execution_count": 26,
   "metadata": {},
   "outputs": [
    {
     "data": {
      "image/png": "[encoded data removed]",
      "text/plain": [
       "<Figure size 432x288 with 1 Axes>"
      ]
     },
     "metadata": {},
     "output_type": "display_data"
    }
   ],
   "source": [
    "# w0=bias  w1=cof\n",
    "plt.scatter(x[:,0],y)\n",
    "plt.grid(True)\n",
    "plt.show()"
   ]
  },
  {
   "cell_type": "code",
   "execution_count": 38,
   "metadata": {},
   "outputs": [],
   "source": [
    "def hypothesis(x,w):\n",
    "    return x*w[1] + w[0]\n",
    "\n",
    "\n",
    "def get_error(y_true,x,w):\n",
    "    err = 0.0\n",
    "    m = x.shape[0]\n",
    "    for ix in range(m):\n",
    "        err += (y_true[ix]-hypothesis([ix],w))**2\n",
    "    err = err / (2 * m)\n",
    "    return err\n",
    "\n",
    "\n",
    "def get_gradients(y_true,x,w):\n",
    "    gradient_00 = 0.0\n",
    "    gradient_01 = 0.0\n",
    "    \n",
    "    # numberof examples\n",
    "    m = x.shape[0] \n",
    "    \n",
    "    for ix in range(m):\n",
    "        gradient_00 += (y_true[ix] - hypothesis(x[ix],w))*(-1)\n",
    "        gradient_01 += (y_true[ix] - hypothesis(x[ix],w))*(-1*x[ix])\n",
    "        \n",
    "    gradient_00 = gradient_00 / m\n",
    "    gradient_01 = gradient_01 / m\n",
    "    \n",
    "    return [gradient_00,gradient_01]\n",
    "    \n",
    "def gradient_descent(x,y_true,w,learning_rate=0.1):\n",
    "    error = get_error(y_true, x, w)\n",
    "    [gradient_00,gradient_01] = get_gradients(y_true,x,w)\n",
    "    \n",
    "    w[0] = w[0] - learning_rate*gradient_00\n",
    "    w[1] = w[1] - learning_rate*gradient_01\n",
    "    \n",
    "    return error, w"
   ]
  },
  {
   "cell_type": "code",
   "execution_count": 39,
   "metadata": {},
   "outputs": [],
   "source": [
    "w = np.array([0.1,0.1])\n",
    "loss = []"
   ]
  },
  {
   "cell_type": "code",
   "execution_count": 62,
   "metadata": {},
   "outputs": [
    {
     "data": {
      "image/png": "[encoded data removed]",
      "text/plain": [
       "<Figure size 432x288 with 1 Axes>"
      ]
     },
     "metadata": {},
     "output_type": "display_data"
    },
    {
     "name": "stderr",
     "output_type": "stream",
     "text": [
      "/usr/local/lib/python2.7/dist-packages/ipykernel_launcher.py:2: VisibleDeprecationWarning: using a non-integer number instead of an integer will result in an error in the future\n",
      "  \n"
     ]
    }
   ],
   "source": [
    "plt.scatter(x[:,0],y)\n",
    "y_01 = hypothesis(-3,w)\n",
    "y_02 = hypothesis(3,w)\n",
    "\n",
    "plt.plot([-3,3],[y_01,y_02],'r*-')\n",
    "plt.show()\n",
    "\n",
    "l,w = gradient_descent(x_train, y_train,w, learning_rate=0.02)\n",
    "loss.append(l)\n",
    "\n",
    "# This is not working check why\n",
    "# plt.plot(loss)\n",
    "# plt.show()\n",
    "# print w "
   ]
  },
  {
   "cell_type": "code",
   "execution_count": null,
   "metadata": {},
   "outputs": [],
   "source": []
  }
 ],
 "metadata": {
  "kernelspec": {
   "display_name": "Python 2",
   "language": "python",
   "name": "python2"
  },
  "language_info": {
   "codemirror_mode": {
    "name": "ipython",
    "version": 2
   },
   "file_extension": ".py",
   "mimetype": "text/x-python",
   "name": "python",
   "nbconvert_exporter": "python",
   "pygments_lexer": "ipython2",
   "version": "2.7.12"
  }
 },
 "nbformat": 4,
 "nbformat_minor": 2
}
