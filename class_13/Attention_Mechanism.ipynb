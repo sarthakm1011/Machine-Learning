{
 "cells": [
  {
   "cell_type": "code",
   "execution_count": 1,
   "metadata": {},
   "outputs": [],
   "source": [
    "# Attention Mechanism\n",
    "# Markov Chain"
   ]
  },
  {
   "cell_type": "code",
   "execution_count": 2,
   "metadata": {},
   "outputs": [],
   "source": [
    "# ATTENTION MECHANISM\n",
    "# Focussing on different parts of image which have more impact \n",
    "# Soft: applies weight to each unit based on importance probabilistic\n",
    "# Hard: applies a weight to the most important unit\n",
    "# n . nxn = alpha "
   ]
  },
  {
   "cell_type": "code",
   "execution_count": 39,
   "metadata": {},
   "outputs": [],
   "source": [
    "import numpy as np\n",
    "import pandas as pd\n",
    "import seaborn as sns\n",
    "import torch \n",
    "import torch.nn.functional as F\n",
    "import torch.nn as nn\n",
    "import matplotlib.pyplot as plt\n",
    "params = {\"ytick.color\" : \"w\",\n",
    "          \"xtick.color\" : \"w\",\n",
    "          \"axes.labelcolor\" : \"w\",\n",
    "          \"axes.edgecolor\" : \"w\"}\n",
    "plt.rcParams.update(params)"
   ]
  },
  {
   "cell_type": "code",
   "execution_count": 30,
   "metadata": {},
   "outputs": [],
   "source": [
    "def generate_data(N, dim=32, attention_col=5):\n",
    "    x = np.random.standard_normal(size=(N,dim))\n",
    "    y = np.random.randint(low=0, high=3, size=(N,1))\n",
    "    x[:,attention_col] = y[:,0]\n",
    "    return x,y"
   ]
  },
  {
   "cell_type": "code",
   "execution_count": 31,
   "metadata": {},
   "outputs": [],
   "source": [
    "class Net(nn.Module):\n",
    "    def __init__(self, ndim=32):\n",
    "        super(Net, self).__init__()\n",
    "        self.attention = nn.Linear(ndim, ndim)\n",
    "        self.out = nn.Linear(ndim, 1)\n",
    "    \n",
    "    def attn(self, x):\n",
    "        p = F.softmax(self.attention(x))\n",
    "        return p\n",
    "        \n",
    "    def forward(self, x):\n",
    "        x = x * self.attn(x)\n",
    "        x = self.attn(x)\n",
    "        x = self.out(x)\n",
    "        return x"
   ]
  },
  {
   "cell_type": "code",
   "execution_count": 32,
   "metadata": {},
   "outputs": [
    {
     "data": {
      "text/plain": [
       "((100, 32), (100, 1))"
      ]
     },
     "execution_count": 32,
     "metadata": {},
     "output_type": "execute_result"
    }
   ],
   "source": [
    "model = Net()\n",
    "X, y = generate_data(100)\n",
    "X.shape, y.shape"
   ]
  },
  {
   "cell_type": "code",
   "execution_count": 33,
   "metadata": {},
   "outputs": [
    {
     "name": "stdout",
     "output_type": "stream",
     "text": [
      "[ 0.43687887 -0.31074266 -0.88509546  0.03125521 -2.1938443   2.\n",
      "  0.49723028 -1.25313012  0.08738764  0.96414974  0.47717999  1.41427682\n",
      " -2.11488397 -0.36309104  0.28398857  1.34050642 -0.61208105  0.32784581\n",
      " -0.83933752 -0.65834654 -0.20438137  0.88477221  0.24083225 -0.15834825\n",
      " -0.47173549  0.48772103  0.87653485  0.31135709  0.63213505 -0.21228708\n",
      " -0.98043179 -0.73371745] [2]\n"
     ]
    }
   ],
   "source": [
    "print X[0], y[0]"
   ]
  },
  {
   "cell_type": "code",
   "execution_count": 34,
   "metadata": {},
   "outputs": [],
   "source": [
    "optimizer = torch.optim.Adam(model.parameters(), lr=0.001)\n",
    "lossfn = torch.nn.MSELoss()"
   ]
  },
  {
   "cell_type": "code",
   "execution_count": 36,
   "metadata": {},
   "outputs": [
    {
     "name": "stderr",
     "output_type": "stream",
     "text": [
      "/usr/local/lib/python2.7/dist-packages/ipykernel_launcher.py:8: UserWarning: Implicit dimension choice for softmax has been deprecated. Change the call to include dim=X as an argument.\n",
      "  \n"
     ]
    },
    {
     "name": "stdout",
     "output_type": "stream",
     "text": [
      "0 tensor(1.0281)\n",
      "10 tensor(1.0023)\n",
      "20 tensor(0.9773)\n",
      "30 tensor(0.9531)\n",
      "40 tensor(0.9298)\n",
      "50 tensor(0.9072)\n",
      "60 tensor(0.8854)\n",
      "70 tensor(0.8645)\n",
      "80 tensor(0.8443)\n",
      "90 tensor(0.8249)\n"
     ]
    }
   ],
   "source": [
    "for epoch in range(100):\n",
    "    pred = model(torch.FloatTensor(X))\n",
    "    #print pred.shape\n",
    "    loss = lossfn(pred, torch.FloatTensor(y))\n",
    "    optimizer.zero_grad()\n",
    "    \n",
    "    loss.backward()\n",
    "    optimizer.step()\n",
    "    \n",
    "    if epoch % 10 == 0:\n",
    "        print epoch, loss"
   ]
  },
  {
   "cell_type": "code",
   "execution_count": 37,
   "metadata": {},
   "outputs": [
    {
     "name": "stdout",
     "output_type": "stream",
     "text": [
      "torch.Size([100, 32])\n",
      "tensor([ 0.0009,  0.0066,  0.0012,  0.0013,  0.7549,  0.0108,  0.0029,\n",
      "         0.0229,  0.0007,  0.0007,  0.0006,  0.0189,  0.0008,  0.0004,\n",
      "         0.0136,  0.0019,  0.0042,  0.0246,  0.0055,  0.0042,  0.0147,\n",
      "         0.0022,  0.0005,  0.0004,  0.0189,  0.0029,  0.0013,  0.0181,\n",
      "         0.0010,  0.0079,  0.0510,  0.0034])\n"
     ]
    },
    {
     "name": "stderr",
     "output_type": "stream",
     "text": [
      "/usr/local/lib/python2.7/dist-packages/ipykernel_launcher.py:8: UserWarning: Implicit dimension choice for softmax has been deprecated. Change the call to include dim=X as an argument.\n",
      "  \n"
     ]
    }
   ],
   "source": [
    "o = model(torch.FloatTensor(X))\n",
    "a = model.attn(torch.FloatTensor(X))\n",
    "print a.shape\n",
    "print a[0]"
   ]
  },
  {
   "cell_type": "code",
   "execution_count": 40,
   "metadata": {},
   "outputs": [
    {
     "data": {
      "image/png": "[encoded data removed]",
      "text/plain": [
       "<Figure size 432x288 with 1 Axes>"
      ]
     },
     "metadata": {},
     "output_type": "display_data"
    }
   ],
   "source": [
    "ds = pd.DataFrame(a.data.numpy()[0], columns=['attention (%)'])\n",
    "ds.plot(kind='bar', title='Attention Mechanism')\n",
    "plt.show()"
   ]
  },
  {
   "cell_type": "code",
   "execution_count": null,
   "metadata": {},
   "outputs": [],
   "source": []
  }
 ],
 "metadata": {
  "kernelspec": {
   "display_name": "Python 2",
   "language": "python",
   "name": "python2"
  },
  "language_info": {
   "codemirror_mode": {
    "name": "ipython",
    "version": 2
   },
   "file_extension": ".py",
   "mimetype": "text/x-python",
   "name": "python",
   "nbconvert_exporter": "python",
   "pygments_lexer": "ipython2",
   "version": "2.7.12"
  }
 },
 "nbformat": 4,
 "nbformat_minor": 2
}
