{
 "cells": [
  {
   "cell_type": "code",
   "execution_count": 1,
   "metadata": {},
   "outputs": [],
   "source": [
    "import numpy as np\n",
    "import re\n",
    "from matplotlib import pyplot as plt\n",
    "%matplotlib inline \n",
    "import random "
   ]
  },
  {
   "cell_type": "code",
   "execution_count": 11,
   "metadata": {},
   "outputs": [],
   "source": [
    "# Game of thrones Book-6 \n",
    "f = open('game_of_thrones_series.txt', 'r')\n",
    "g = open('a_dance_with_dragons.txt','r')\n",
    "ds_1 = f.read()\n",
    "ds_2 = g.read()\n",
    "f.close()\n",
    "g.close()"
   ]
  },
  {
   "cell_type": "code",
   "execution_count": 39,
   "metadata": {},
   "outputs": [
    {
     "name": "stdout",
     "output_type": "stream",
     "text": [
      "7982112\n",
      "2646402\n",
      "10628514\n"
     ]
    }
   ],
   "source": [
    "print len(ds_1)\n",
    "print len(ds_2)\n",
    "ds = ds_1 + ds_2\n",
    "print len(ds)"
   ]
  },
  {
   "cell_type": "code",
   "execution_count": 34,
   "metadata": {},
   "outputs": [
    {
     "name": "stdout",
     "output_type": "stream",
     "text": [
      "Number of characters in the book: 98\n",
      "set(['\\x0c', '\\x93', ' ', '(', ',', '0', '4', '8', '\\xc3', 'D', 'H', 'L', 'P', 'T', 'X', 'd', 'h', 'l', 'p', 't', 'x', '\\x80', '\\x94', '\\x98', '\\x9c', \"'\", '/', '3', '7', ';', '?', 'C', 'G', 'K', 'O', 'S', 'W', '[', '_', 'c', 'g', 'k', 'o', 's', 'w', '{', '\\n', '\\x99', '\\x9d', '\\xa9', '\\xad', '.', '\\xb1', '2', '6', ':', 'B', 'F', 'J', 'N', 'R', 'V', 'Z', 'b', 'f', 'j', 'n', 'r', 'v', 'z', '\\t', '\\r', '!', '\\xa6', ')', '\\xaa', '-', '1', '5', '9', 'A', '\\xc2', 'E', 'I', 'M', 'Q', 'U', 'Y', ']', 'a', '\\xe2', 'e', 'i', 'm', 'q', 'u', 'y', '}'])\n",
      "\f",
      "\f",
      "CONTENTS\n",
      "\n",
      "COVER\n",
      "TITLE\tPAGE\n",
      "\n",
      "A\tGAME\tOF\tTHRONES\n",
      "A\tCLASH\tOF\tKINGS\n",
      "A\tSTORM\tOF\tSWORDS\n",
      "A\tFEAST\tFOR\tCROWS\n"
     ]
    }
   ],
   "source": [
    "print 'Number of characters in the book: ' + str(set(ds).__len__())\n",
    "print set(ds)\n",
    "print ds[:100]"
   ]
  },
  {
   "cell_type": "code",
   "execution_count": 52,
   "metadata": {},
   "outputs": [
    {
     "name": "stdout",
     "output_type": "stream",
     "text": [
      "['contents\\n\\ncover\\ntitle\\tpage\\n\\na\\tgame\\tof\\tthrones\\na\\tclash\\tof\\tkings\\na\\tstorm\\tof\\tswords\\na\\tfeast\\tfor\\tcrows\\nabout\\tthe\\tauthor\\nalso\\tby\\tgeorge\\tr.r.\\tmartin\\nexcerpt\\tfrom\\ta\\tdance\\twith\\tdragons\\n\\n\\x0c\\x0c\\x0ca\\tgame\\tof\\tthrones\\na\\tbantam\\tspectra\\tbook\\nspectra\\tand\\tthe\\tportrayal\\tof\\ta\\tboxed\\t\\xe2\\x80\\x9cs\\xe2\\x80\\x9d\\tare\\ttrademarks\\tof\\tbantam\\tbooks,\\ta\\tdivision\\tof\\nrandom\\thouse,\\tinc.\\npublishing\\thistory\\nbantam\\thardcover\\tedition\\tpublished\\tseptember\\t1996\\nbantam\\tpaperback\\tedition\\t/\\tseptember\\t1997\\nmaps\\tby\\tjames\\tsinclair.\\nheraldic\\tcrests\\tby\\tvirginia\\tnorey.\\nall\\trights\\treserved.\\ncopyright\\t\\xc2\\xa9\\t1996\\tby\\tgeorge\\tr.\\tr.\\tmartin\\nlibrary\\tof\\tcongress\\tcatalog\\tcard\\tnumber:\\t95-43936.\\nno\\tpart\\tof\\tthis\\tbook\\tmay\\tbe\\treproduced\\tor\\ttransmitted\\tin\\tany\\tform\\nor\\tby\\tany\\tmeans,\\telectronic\\tor\\tmechanical,\\tincluding\\tphotocopying,\\nrecording,\\tor\\tby\\tany\\tinformation\\tstorage\\tand\\tretrieval\\tsystem,\\nwithout\\tpermission\\tin\\twriting\\tfrom\\tthe\\tpublisher.\\nfor\\tinformation\\taddress:\\tbantam\\tbooks.\\nvisit\\tour\\twebsite\\tat\\twww.bantamdell.com\\neisbn:\\t978-0-553-89784-5\\n\\nbantam', 'books', 'are', 'published', 'by', 'bantam', 'books,', 'a', 'division', 'of', 'random\\nhouse,', 'inc.', 'its', 'trademark,', 'consisting', 'of', 'the', 'words', '\\xe2\\x80\\x9cbantam', 'books\\xe2\\x80\\x9d', 'and\\nthe', 'portrayal', 'of', 'a', 'rooster,', 'is', 'registered', 'in', 'u.s.', 'patent']\n"
     ]
    }
   ],
   "source": [
    "ds_new = [ix.strip() for ix in ds.lower().split(' ')]\n",
    "ds_new_1 = [ix.strip() for ix in ds.replace('\\n',' ')]\n",
    "print ds_new[:30]\n",
    "#print ds_new_1[:100]"
   ]
  },
  {
   "cell_type": "code",
   "execution_count": null,
   "metadata": {},
   "outputs": [],
   "source": []
  }
 ],
 "metadata": {
  "kernelspec": {
   "display_name": "Python 2",
   "language": "python",
   "name": "python2"
  },
  "language_info": {
   "codemirror_mode": {
    "name": "ipython",
    "version": 2
   },
   "file_extension": ".py",
   "mimetype": "text/x-python",
   "name": "python",
   "nbconvert_exporter": "python",
   "pygments_lexer": "ipython2",
   "version": "2.7.12"
  }
 },
 "nbformat": 4,
 "nbformat_minor": 2
}
