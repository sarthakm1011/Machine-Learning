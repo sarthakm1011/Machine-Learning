{
 "cells": [
  {
   "cell_type": "code",
   "execution_count": 1,
   "metadata": {},
   "outputs": [],
   "source": [
    "import numpy as np\n",
    "import re\n",
    "from matplotlib import pyplot as plt\n",
    "%matplotlib inline \n",
    "import random "
   ]
  },
  {
   "cell_type": "code",
   "execution_count": 11,
   "metadata": {},
   "outputs": [],
   "source": [
    "# Game of thrones Book-6 \n",
    "f = open('game_of_thrones_series.txt', 'r')\n",
    "g = open('a_dance_with_dragons.txt','r')\n",
    "ds_1 = f.read()\n",
    "ds_2 = g.read()\n",
    "f.close()\n",
    "g.close()"
   ]
  },
  {
   "cell_type": "code",
   "execution_count": 24,
   "metadata": {},
   "outputs": [],
   "source": [
    "ds_1_new = [ix.strip() for ix in ds_1.lower().split('\\n')]\n",
    "ds_2_new = [ix.strip() for ix in ds_2.lower().split('\\n')]"
   ]
  },
  {
   "cell_type": "code",
   "execution_count": 28,
   "metadata": {},
   "outputs": [
    {
     "name": "stdout",
     "output_type": "stream",
     "text": [
      "7982112\n",
      "2646402\n",
      "10628514\n"
     ]
    }
   ],
   "source": [
    "print len(ds_1)\n",
    "print len(ds_2)\n",
    "ds = ds_1 + ds_2\n",
    "print len(ds)"
   ]
  },
  {
   "cell_type": "code",
   "execution_count": 32,
   "metadata": {},
   "outputs": [
    {
     "name": "stdout",
     "output_type": "stream",
     "text": [
      "set(['\\x0c', '\\x93', ' ', '(', ',', '0', '4', '8', '\\xc3', 'D', 'H', 'L', 'P', 'T', 'X', 'd', 'h', 'l', 'p', 't', 'x', '\\x80', '\\x94', '\\x98', '\\x9c', \"'\", '/', '3', '7', ';', '?', 'C', 'G', 'K', 'O', 'S', 'W', '[', '_', 'c', 'g', 'k', 'o', 's', 'w', '{', '\\n', '\\x99', '\\x9d', '\\xa9', '\\xad', '.', '\\xb1', '2', '6', ':', 'B', 'F', 'J', 'N', 'R', 'V', 'Z', 'b', 'f', 'j', 'n', 'r', 'v', 'z', '\\t', '\\r', '!', '\\xa6', ')', '\\xaa', '-', '1', '5', '9', 'A', '\\xc2', 'E', 'I', 'M', 'Q', 'U', 'Y', ']', 'a', '\\xe2', 'e', 'i', 'm', 'q', 'u', 'y', '}'])\n",
      "Number of characters in the book98\n",
      "\f",
      "\f",
      "CONTENTS\n",
      "\n",
      "COVER\n",
      "TITLE\tPAGE\n",
      "\n",
      "A\tGAME\tOF\tTHRONES\n",
      "A\tCLASH\tOF\tKINGS\n",
      "A\tSTORM\tOF\tSWORDS\n",
      "A\tFEAST\tFOR\tCROWS\n",
      "ABOUT\tTHE\tAUTHOR\n",
      "ALSO\tBY\tGEORGE\tR.R.\tMARTIN\n",
      "EXCERPT\tFROM\tA\tDANCE\tWITH\tDRAGONS\n",
      "\n",
      "\f",
      "\f",
      "\f",
      "A\tGame\tof\tThrones\n",
      "A\tBantam\tSpectra\tBook\n",
      "SPECTRA\tand\tthe\tportrayal\tof\ta\tboxed\t“s”\tare\ttrademarks\tof\tBantam\tBooks,\ta\tdivision\tof\n",
      "Random\tHouse,\tInc.\n",
      "PUBLISHING\tHISTORY\n",
      "Bantam\thardcover\tedition\tpublished\tSeptember\t1996\n",
      "Bantam\tpaperback\tedition\t/\tSeptember\t1997\n",
      "Maps\tby\tJames\tSinclair.\n",
      "Heraldic\tcrests\tby\tVirginia\tNorey.\n",
      "All\trights\treserved.\n",
      "Copyright\t©\t1996\tby\tGeorge\tR.\tR.\tMartin\n",
      "Library\tof\tCongress\tCatalog\tCard\tNumber:\t95-43936.\n",
      "No\tpart\tof\tthis\tbook\tmay\tbe\treproduced\tor\ttransmitted\tin\tany\tform\n",
      "or\tby\tany\tmeans,\telectronic\tor\tmechanical,\tincluding\tphotocopying,\n",
      "recording,\tor\tby\tany\tinformation\tstorage\tand\tretrieval\tsystem,\n",
      "without\tpermission\tin\twriting\tfrom\tthe\tpublisher.\n",
      "For\tinformation\taddress:\tBantam\tBooks.\n",
      "Visit\tour\twebsite\tat\twww.bantamdell.com\n",
      "eISBN:\t978-0-553-89784-5\n",
      "\n",
      "Bantam\t Books\t are\t published\t by\n"
     ]
    }
   ],
   "source": [
    "print set(ds)\n",
    "print 'Number of characters in the book: ' + str(set(ds).__len__())\n",
    "print ds[:1000]"
   ]
  },
  {
   "cell_type": "code",
   "execution_count": null,
   "metadata": {},
   "outputs": [],
   "source": []
  }
 ],
 "metadata": {
  "kernelspec": {
   "display_name": "Python 2",
   "language": "python",
   "name": "python2"
  },
  "language_info": {
   "codemirror_mode": {
    "name": "ipython",
    "version": 2
   },
   "file_extension": ".py",
   "mimetype": "text/x-python",
   "name": "python",
   "nbconvert_exporter": "python",
   "pygments_lexer": "ipython2",
   "version": "2.7.12"
  }
 },
 "nbformat": 4,
 "nbformat_minor": 2
}
