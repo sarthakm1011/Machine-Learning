{
 "cells": [
  {
   "cell_type": "code",
   "execution_count": 1,
   "metadata": {},
   "outputs": [],
   "source": [
    "# W is transformation function which reduces the dimesnion to make it easily seperable\n",
    "# Transformation is done to make a linearly seperable data\n",
    "\n",
    "# Activation functions are used for transformation in such a way to transform the input\n",
    "#function in such a way that \n",
    "\n",
    "# At first it increases the dimensions to calculate the best fit plane, line, \n",
    "# some other function then after getting that best fit function that seperates them then \n",
    "# it decrease dimensions.\n",
    "\n",
    "# Neural Network is sum of diferent transformation then finally applying logistic regression\n",
    "\n",
    "# Softmax will be wriiten on the last layer only and otherwise if used in between layers \n",
    "# it will create confusion in the \n",
    "\n",
    "# 2 things: A smooth function should be created and outputs should be dependent\n",
    "\n",
    "# output of vector posterior probailities\n",
    "# RELU activation function good\n",
    "\n",
    "# Batches very important computationally very good as parrallel threads are created \n",
    "# Stochastic Gradient Descent much better than gradient descent because it computes for\n",
    "# batches and then computes new gradient + direction(vector)\n",
    "\n",
    "# Tensorflow playground\n",
    "\n",
    "# Calculus on computational graph\n",
    "# Makes models computationally tractable\n",
    "# colah.github.io\n",
    "\n",
    "# HOMEWORK\n",
    "# Assignment scikit learn concentric circles predict with NN\n",
    "# Computatution for back propogation = 2n - 1\n",
    "# \n",
    "# x ---> A ---> Y---\n",
    "# chain rule revise\n"
   ]
  },
  {
   "cell_type": "code",
   "execution_count": null,
   "metadata": {},
   "outputs": [],
   "source": []
  }
 ],
 "metadata": {
  "kernelspec": {
   "display_name": "Python 2",
   "language": "python",
   "name": "python2"
  },
  "language_info": {
   "codemirror_mode": {
    "name": "ipython",
    "version": 2
   },
   "file_extension": ".py",
   "mimetype": "text/x-python",
   "name": "python",
   "nbconvert_exporter": "python",
   "pygments_lexer": "ipython2",
   "version": "2.7.12"
  }
 },
 "nbformat": 4,
 "nbformat_minor": 2
}
