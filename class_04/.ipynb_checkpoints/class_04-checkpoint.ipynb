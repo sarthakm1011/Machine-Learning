{
 "cells": [
  {
   "cell_type": "code",
   "execution_count": 1,
   "metadata": {},
   "outputs": [],
   "source": [
    "import numpy as np\n",
    "import pandas as pd\n",
    "import matplotlib.pyplot as mpl\n",
    "from sklearn.neighbors import KNeighborsClassifier\n",
    "import cv2"
   ]
  },
  {
   "cell_type": "code",
   "execution_count": 10,
   "metadata": {},
   "outputs": [
    {
     "data": {
      "text/plain": [
       "'2.4.9.1'"
      ]
     },
     "execution_count": 10,
     "metadata": {},
     "output_type": "execute_result"
    }
   ],
   "source": [
    "cam = cv2.VideoCapture(1)\n",
    "face_cascade = cv2.CascadeClassifier('./haarcascade_frontalface_default.xml')\n",
    "cv2.__version__\n",
    "\n",
    "#from os.path import realpath, normpath\n",
    "#normpath(realpath(cv2.__file__))\n",
    "\n",
    "#PYImage Search instaling opencv from source\n",
    "#DOES NOT WORK ON JUPYTER NOTEBOOK\n",
    "\n",
    "#6000 features for object detection white for in the part and black for reject\n",
    "# Haar cascade read about it\n",
    "# feaures divided in stages and check\n",
    "# opencv built using a script from source\n",
    "# shape(20,50,50,100)\n",
    "# shape(20,50,-1)\n",
    "\n",
    "# reshape() number of elements remain same \n",
    "# resize not recommended for compressing the image\n",
    "# use resize from openCV to keep the image intact\n",
    "# if you use the resize on numpy then it just take random values which will distort the image"
   ]
  },
  {
   "cell_type": "code",
   "execution_count": null,
   "metadata": {},
   "outputs": [],
   "source": [
    "train_x = \n",
    "train_y = \n",
    "val_x = \n",
    "val_y = \n",
    "\n",
    "knn = KNeigborsClassifier(n_neighbors=5)\n",
    "knn.fit(train_x,train_y)\n",
    "pred = knn.predict(val_x)\n",
    "print pred.shape\n",
    "print \"Accuracy:%s\" %knn.score(val_x,val_y)"
   ]
  },
  {
   "cell_type": "code",
   "execution_count": null,
   "metadata": {},
   "outputs": [],
   "source": [
    "# Class_04_main\n",
    "cam = cv2.VideoCapture(0)\n",
    "\n",
    "while True:\n",
    "    _,frame=cam.read()\n",
    "    frame = cv2.resize(frame,(400,400))\n",
    "    \n",
    "    #rectangle\n",
    "    cv2.rectangle(frame,(100,100),(200,200),(0,0,0),3)\n",
    "\n",
    "    #text\n",
    "    #cv2.putText(frame,\"hi\",(90,90),1,font,(0,0,0),4,\n",
    "\n",
    "    cv2.imshow(\"frame\",frame)\n",
    "    \n",
    "    if cv2.waitKey(0) == ord('q'):\n",
    "        break\n",
    "\n",
    "cv2.destroyAllWindows()"
   ]
  },
  {
   "cell_type": "code",
   "execution_count": null,
   "metadata": {},
   "outputs": [],
   "source": [
    "cv2."
   ]
  },
  {
   "cell_type": "code",
   "execution_count": null,
   "metadata": {},
   "outputs": [],
   "source": []
  }
 ],
 "metadata": {
  "kernelspec": {
   "display_name": "Python 2",
   "language": "python",
   "name": "python2"
  },
  "language_info": {
   "codemirror_mode": {
    "name": "ipython",
    "version": 2
   },
   "file_extension": ".py",
   "mimetype": "text/x-python",
   "name": "python",
   "nbconvert_exporter": "python",
   "pygments_lexer": "ipython2",
   "version": "2.7.12"
  }
 },
 "nbformat": 4,
 "nbformat_minor": 2
}
