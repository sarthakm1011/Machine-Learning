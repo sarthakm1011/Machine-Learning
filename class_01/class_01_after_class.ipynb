{
 "cells": [
  {
   "cell_type": "code",
   "execution_count": 1,
   "metadata": {},
   "outputs": [],
   "source": [
    "import numpy\n",
    "import scipy\n",
    "import matplotlib\n",
    "import cv2\n",
    "import pandas\n",
    "import sklearn\n",
    "import skimage"
   ]
  },
  {
   "cell_type": "code",
   "execution_count": 2,
   "metadata": {},
   "outputs": [],
   "source": [
    "#Write a step-by-step solution/pseudocode for the classification problem based on distance metric as discussed.\n",
    "#Write a pseudocode/method for clustering problem and line fitting problem\n",
    "#Solve the following assignment: https://d1b10bmlvqabco.cloudfront.net/attach/jibbjxuuyh018h/hkyay1fp9xb6b3/jibdq4iaq7ap/python_assignment.pdf"
   ]
  },
  {
   "cell_type": "code",
   "execution_count": 4,
   "metadata": {},
   "outputs": [
    {
     "name": "stdout",
     "output_type": "stream",
     "text": [
      "4\n"
     ]
    }
   ],
   "source": [
    "#Solve the following assignment:\n",
    "\n",
    "#Q1\n",
    "list1 = [10,20,15,25]\n",
    "print len(list1)"
   ]
  },
  {
   "cell_type": "code",
   "execution_count": 15,
   "metadata": {},
   "outputs": [
    {
     "name": "stdout",
     "output_type": "stream",
     "text": [
      "[]\n",
      "[1, 2, 3, 4]\n",
      "[1, 2, 3]\n"
     ]
    }
   ],
   "source": [
    "#Q2\n",
    "some_list = list()\n",
    "some_list1 = list([1,2,3,4])\n",
    "some_list2 = [1,2,3] \n",
    "#some_list4 = list(1,2,3,55)\n",
    "print some_list\n",
    "print some_list1\n",
    "print some_list2\n",
    "#print some_list4\n",
    "\n",
    "#Answer: All will create a list except the some_list3"
   ]
  },
  {
   "cell_type": "code",
   "execution_count": 22,
   "metadata": {},
   "outputs": [
    {
     "name": "stdout",
     "output_type": "stream",
     "text": [
      "3.42857142857\n"
     ]
    }
   ],
   "source": [
    "#Q3\n",
    "s = [1,3,2,1,5,3,9]\n",
    "average_list = float(sum(s)) / len(s)\n",
    "print average_list\n",
    "\n",
    "#Answer 3.428"
   ]
  },
  {
   "cell_type": "code",
   "execution_count": 23,
   "metadata": {},
   "outputs": [
    {
     "name": "stdout",
     "output_type": "stream",
     "text": [
      "[1, 3, 2, 1, 5, 3, 9]\n",
      "[2, 5, 1, 3, 9, 1, 3]\n"
     ]
    }
   ],
   "source": [
    "#Q4\n",
    "import random\n",
    "print s\n",
    "random.shuffle(s)\n",
    "print s #Shuffled List"
   ]
  },
  {
   "cell_type": "code",
   "execution_count": 26,
   "metadata": {},
   "outputs": [
    {
     "name": "stdout",
     "output_type": "stream",
     "text": [
      "[9, 1, 3]\n"
     ]
    }
   ],
   "source": [
    "#Q5\n",
    "print s[-3:] #to print last 3 terms without using the loops"
   ]
  },
  {
   "cell_type": "code",
   "execution_count": 27,
   "metadata": {},
   "outputs": [
    {
     "name": "stdout",
     "output_type": "stream",
     "text": [
      "[1, 2, 3, 6, 5, 1, 7]\n",
      "[5, 1]\n",
      "[3, 6, 5]\n"
     ]
    }
   ],
   "source": [
    "#Q6\n",
    "l = [1,2,3,6,5,1,7,3]\n",
    "print l[:-1]\n",
    "print l[-4:-2]\n",
    "print l[2:-3]"
   ]
  },
  {
   "cell_type": "code",
   "execution_count": 155,
   "metadata": {},
   "outputs": [
    {
     "name": "stdout",
     "output_type": "stream",
     "text": [
      "list1 = [10]\n",
      "list2 = [1, 2, 123]\n",
      "list3 = ['a']\n"
     ]
    }
   ],
   "source": [
    "#Q7\n",
    "import copy\n",
    "def extendList(val, el=[]):\n",
    "    el_copy = copy.copy(el)\n",
    "    el_copy.append(val)\n",
    "    return el_copy\n",
    "\n",
    "list1 = extendList(10)\n",
    "list2 = extendList(123,[1,2])\n",
    "list3 = extendList('a')\n",
    "\n",
    "\n",
    "print \"list1 = %s\" %list1\n",
    "print \"list2 = %s\" %list2\n",
    "print \"list3 = %s\" %list3\n",
    "\n",
    "#How is output different from expected?\n",
    "#Expected 10 in list1 and 'a' in list3\n",
    "\n",
    "#How to fix it?\n",
    "#Function is passing list by reference, pass it by copy instead"
   ]
  },
  {
   "cell_type": "code",
   "execution_count": 56,
   "metadata": {},
   "outputs": [
    {
     "name": "stdout",
     "output_type": "stream",
     "text": [
      "1\n",
      "[<__main__.A instance at 0x7f20c3d2f320>, <__main__.A instance at 0x7f20c3d2f320>, <__main__.A instance at 0x7f20c3d2f320>, <__main__.A instance at 0x7f20c3d2f320>, <__main__.A instance at 0x7f20c3d2f320>, <__main__.A instance at 0x7f20c3d2f320>, <__main__.A instance at 0x7f20c3d2f320>, <__main__.A instance at 0x7f20c3d2f320>, <__main__.A instance at 0x7f20c3d2f320>, <__main__.A instance at 0x7f20c3d2f320>]\n",
      "1\n",
      "1\n",
      "1\n",
      "1\n",
      "1\n",
      "1\n",
      "1\n",
      "1\n",
      "1\n",
      "1\n",
      "This is b[2]\n",
      "1\n",
      "5\n",
      "5\n",
      "5\n",
      "5\n",
      "5\n",
      "5\n",
      "5\n",
      "5\n",
      "5\n",
      "5\n"
     ]
    }
   ],
   "source": [
    "#Q8\n",
    "class A():\n",
    "    x = 1\n",
    "\n",
    "a = A()\n",
    "print a.x\n",
    "\n",
    "b = [A()]*10 #list of classes\n",
    "print b \n",
    "\n",
    "for ix in b:\n",
    "    print ix.x\n",
    "\n",
    "print \"This is b[2]\"\n",
    "print b[2].x\n",
    "\n",
    "b[2].x  = 5 \n",
    "\n",
    "for ix in b:\n",
    "    print ix.x\n",
    "#How is output different than expected?\n",
    "#How to fix it?\n",
    "    "
   ]
  },
  {
   "cell_type": "code",
   "execution_count": 62,
   "metadata": {},
   "outputs": [],
   "source": [
    "#Q9\n",
    "class Obj:\n",
    "    def __init__(self, a=0, b=1):\n",
    "        self.a = a\n",
    "        self.b = b\n",
    "    \n",
    "if __name__ == \"__main__\":\n",
    "    Obj(1)\n",
    "    objects = [Obj(1,2),Obj(5,4),Obj(7,3),Obj(11,42),Obj(8,0),Obj(5,9)]   \n",
    "        \n",
    "#Sort the above list of objects using > a as key > b as key        "
   ]
  },
  {
   "cell_type": "code",
   "execution_count": 63,
   "metadata": {},
   "outputs": [
    {
     "name": "stdout",
     "output_type": "stream",
     "text": [
      "['This', 'is', 'introduction', 'to', 'python', 'for', 'web', 'development']\n"
     ]
    }
   ],
   "source": [
    "#Q10\n",
    "text = \"This is introduction to python for web development\"\n",
    "text_list = text.split(' ')\n",
    "print text_list"
   ]
  },
  {
   "cell_type": "code",
   "execution_count": 78,
   "metadata": {},
   "outputs": [
    {
     "name": "stdout",
     "output_type": "stream",
     "text": [
      "@\n",
      "@@\n",
      "@@@\n",
      "@@@@\n",
      "@@@@@\n"
     ]
    }
   ],
   "source": [
    "#Q11\n",
    "for i in range(1,6):\n",
    "    print \"@\"*i"
   ]
  },
  {
   "cell_type": "code",
   "execution_count": 83,
   "metadata": {},
   "outputs": [
    {
     "name": "stdout",
     "output_type": "stream",
     "text": [
      "['', 'bcd', 'egakialaop']\n"
     ]
    }
   ],
   "source": [
    "some_string = \"abcdaegakialaop\"\n",
    "print some_string.split('a',2) #To split till 2nd occurence of the delimeter"
   ]
  },
  {
   "cell_type": "code",
   "execution_count": 164,
   "metadata": {},
   "outputs": [
    {
     "ename": "IndentationError",
     "evalue": "expected an indented block (<ipython-input-164-6cc1ff5aedd6>, line 8)",
     "output_type": "error",
     "traceback": [
      "\u001b[0;36m  File \u001b[0;32m\"<ipython-input-164-6cc1ff5aedd6>\"\u001b[0;36m, line \u001b[0;32m8\u001b[0m\n\u001b[0;31m    \u001b[0m\n\u001b[0m    ^\u001b[0m\n\u001b[0;31mIndentationError\u001b[0m\u001b[0;31m:\u001b[0m expected an indented block\n"
     ]
    }
   ],
   "source": [
    "#Write a pseudocode/method for clustering problem\n",
    "import random\n",
    "import math\n",
    "\n",
    "\n",
    "def KNN():\n",
    "    \n",
    "   "
   ]
  },
  {
   "cell_type": "code",
   "execution_count": 182,
   "metadata": {},
   "outputs": [
    {
     "name": "stdout",
     "output_type": "stream",
     "text": [
      "Starting Position of K Points: [[1, 8], [7, 5], [3, 7]]\n",
      "10\n",
      "cluster A: [[0, 4], [2, 8]]\n",
      "cluster B: [[3, 2], [8, 4], [6, 1], [5, 5], [7, 5]]\n",
      "cluster C: [[2, 2], [4, 5], [3, 7]]\n",
      "Updated Position of K Points:[[1.0, 6.0], [5.8, 3.4], [3.0, 4.666666666666667]] \n"
     ]
    }
   ],
   "source": [
    "def euclidianDistance(a,b):\n",
    "    ax = a[0]\n",
    "    ay = a[1]\n",
    "    bx = b[0]\n",
    "    by = b[1]\n",
    "    d = math.sqrt((bx-ax)*(bx-ax) + (by-ay)*(by-ay))\n",
    "    return d\n",
    "\n",
    "def getMean(el):\n",
    "    sum_x = 0\n",
    "    sum_y = 0\n",
    "\n",
    "    for i in range(len(el)):\n",
    "        sum_x += el[i][0]\n",
    "        sum_y += el[i][1]\n",
    "\n",
    "    x = float(sum_x) / len(el)\n",
    "    y = float(sum_y) / len(el)\n",
    "\n",
    "    sub_list = []\n",
    "    sub_list.append(x)\n",
    "    sub_list.append(y)\n",
    "    return sub_list\n",
    "    \n",
    "    \n",
    "k = 3 #Number_of_clusters = k\n",
    "data_points = [[0,4],[2,2],[4,5],[3,2],[8,4],[6,1],[2,8],[3,7],[5,5],[7,5]]\n",
    "    \n",
    "#Initalizing the starting random postioning of k points\n",
    "start_pos_k = []\n",
    "# for i in range(k):\n",
    "#     s = []\n",
    "#     for j in range(2):\n",
    "#         s.append(random.randint(1,10))\n",
    "#     start_pos_k.append(s)   \n",
    "\n",
    "print \"Starting Position of K Points: %s\" % start_pos_k\n",
    "    \n",
    "    \n",
    "#calculating distance of each data point from these variable\n",
    "data_points_d_list = [] #list of 10 sublist of 3 value\n",
    "    \n",
    "for i in range(len(data_points)):\n",
    "    sub_list = []\n",
    "    for j in range(k):\n",
    "        d_temp = euclidianDistance(start_pos_k[j],data_points[i])\n",
    "        sub_list.append(d_temp)  \n",
    "    data_points_d_list.append(sub_list)\n",
    "        \n",
    "    \n",
    "#finding the smallest eucledian distance out of these points\n",
    "#Add the smallest in it's respective class\n",
    "k1 = []\n",
    "k2 = []\n",
    "k3 = []\n",
    "\n",
    "print len(data_points_d_list)\n",
    "\n",
    "for i in range(len(data_points_d_list)):\n",
    "    if(data_points_d_list[i].index(min(data_points_d_list[i])) == 0):\n",
    "        k1.append(data_points[i])\n",
    "    if(data_points_d_list[i].index(min(data_points_d_list[i])) == 1):\n",
    "        k2.append(data_points[i])\n",
    "    if(data_points_d_list[i].index(min(data_points_d_list[i])) == 2):\n",
    "        k3.append(data_points[i])    \n",
    "    \n",
    "print \"cluster A: %s\" %k1\n",
    "print \"cluster B: %s\" %k2\n",
    "print \"cluster C: %s\" %k3\n",
    "\n",
    "\n",
    "#updating the start position of K for 3 varibles as it's centroid\n",
    "updated_position_of_k = []\n",
    "updated_position_of_k.append(getMean(k1))\n",
    "updated_position_of_k.append(getMean(k2))\n",
    "updated_position_of_k.append(getMean(k3))\n",
    "print \"Updated Position of K Points:%s \" % updated_position_of_k\n",
    "\n",
    "#Handle what happens when the cluster's list is empty #start position should not be random istead use variables from the data poiints given\n",
    "#Decide when to stop the algorithm\n",
    "#(when updated position stops changing to an error of something after calling function recurrently )"
   ]
  },
  {
   "cell_type": "markdown",
   "metadata": {},
   "source": [
    "# Line Fitting Problem or Linear Regression \n",
    "\n",
    "# Equation H(X) = B0 + X*B1 + e\n",
    "# Predicted Response Value = (Y Intercept) + (Slope * x) + (error value)\n",
    "\n",
    "# Using the Least Square Technique\n",
    "# Error = Y - h(x)\n",
    "\n",
    "# Aim to minimize the error and find optimum values of B0 & B1 for which value is minimum\n",
    "# Cost-Function  J(B0,B1) = 1/2n Summation(error*error)\n",
    "# B1 = SS_xx / SS_xy\n",
    "# B0 = Y(Mean) - B1*X(Mean)\n",
    "# SS_xy = Summation((X - X(Mean))*(Y - Y(Mean))) = Summation(y*x - n*x(mean)*y(mean)) #Cross Deviation\n",
    "# SS_xx = Summation((X - X(Mean))*(X - X(Mean))) = Summation(x*x - n*x(mean)*x(mean)) #Squared Deviation\n",
    "\n"
   ]
  },
  {
   "cell_type": "code",
   "execution_count": 192,
   "metadata": {},
   "outputs": [
    {
     "name": "stdout",
     "output_type": "stream",
     "text": [
      "Estimated coefficient B0: 3.41246056782\n",
      "Estimated coefficient B1: 0.686119873817\n"
     ]
    },
    {
     "data": {
      "image/png": "[encoded data removed]",
      "text/plain": [
       "<Figure size 432x288 with 1 Axes>"
      ]
     },
     "metadata": {},
     "output_type": "display_data"
    }
   ],
   "source": [
    "import numpy as np\n",
    "import matplotlib.pyplot as plt\n",
    "\n",
    "def estimate_coefficient(x,y):\n",
    "    n = np.size(x) #number of observation points \n",
    "    mean_x, mean_y = np.mean(x), np.mean(y) #mean of  x and y vector\n",
    "    \n",
    "    SS_xy = np.sum((x*y) - (n*mean_x*mean_y)) # cross deviation\n",
    "    SS_xx = np.sum((x*x) - (n*mean_x*mean_x)) # squared deviation\n",
    "    \n",
    "    B_1 = SS_xx / SS_xy\n",
    "    B_0 = mean_y - (B_1 * mean_x) \n",
    "    \n",
    "    return (B_0, B_1)\n",
    "\n",
    "def plot_regression(x,y,b):\n",
    "    plt.scatter(x, y, color='m', marker='o', s=30) # plotting actual points\n",
    "    y_pred = b[0] + b[1]*x # prediction points\n",
    "    \n",
    "    plt.plot(x, y_pred, color=\"g\") # plotting regression line\n",
    "    plt.xlabel('x')\n",
    "    plt.ylabel('y')\n",
    "    plt.show()\n",
    "\n",
    "def main():\n",
    "    #actual points\n",
    "    x = np.array([0,1,2,3,4,5,6,7,8,9])\n",
    "    y = np.array([1,3,2,5,7,8,8,9,10,12])\n",
    "    \n",
    "    #estimating coefficients\n",
    "    b = estimate_coefficient(x,y)\n",
    "    print \"Estimated coefficient B0: %s\" % b[0]\n",
    "    print \"Estimated coefficient B1: %s\" % b[1]\n",
    "    \n",
    "    #plotting regression line\n",
    "    plot_regression(x,y,b)\n",
    "    \n",
    "main()"
   ]
  },
  {
   "cell_type": "code",
   "execution_count": null,
   "metadata": {},
   "outputs": [],
   "source": []
  }
 ],
 "metadata": {
  "kernelspec": {
   "display_name": "Python 2",
   "language": "python",
   "name": "python2"
  },
  "language_info": {
   "codemirror_mode": {
    "name": "ipython",
    "version": 2
   },
   "file_extension": ".py",
   "mimetype": "text/x-python",
   "name": "python",
   "nbconvert_exporter": "python",
   "pygments_lexer": "ipython2",
   "version": "2.7.12"
  }
 },
 "nbformat": 4,
 "nbformat_minor": 2
}
