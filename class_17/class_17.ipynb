{
 "cells": [
  {
   "cell_type": "code",
   "execution_count": null,
   "metadata": {},
   "outputs": [],
   "source": [
    "# REINFORNCEMENT LEARNING"
   ]
  },
  {
   "cell_type": "code",
   "execution_count": null,
   "metadata": {},
   "outputs": [],
   "source": [
    "# Rt is the total reward function\n",
    "# Maximize Rt for the current state\n",
    "\n",
    "# Temporal Difference Learning\n",
    "# 1) TD(lambda)\n",
    "# 2) Q-Learning\n",
    "# 3) SARSA\n",
    "# 4) Actor Critic\n",
    "\n",
    "# Policy Search Algorithms\n",
    "# 1) \n",
    "\n",
    "\n",
    "# Prediction(Exploration)\n",
    "# Exploitation\n",
    "\n",
    "# BellMan Equation\n",
    "#\n",
    "# Bellman optimality(exploration)"
   ]
  }
 ],
 "metadata": {
  "kernelspec": {
   "display_name": "Python 2",
   "language": "python",
   "name": "python2"
  },
  "language_info": {
   "codemirror_mode": {
    "name": "ipython",
    "version": 2
   },
   "file_extension": ".py",
   "mimetype": "text/x-python",
   "name": "python",
   "nbconvert_exporter": "python",
   "pygments_lexer": "ipython2",
   "version": "2.7.12"
  }
 },
 "nbformat": 4,
 "nbformat_minor": 2
}
