{
 "cells": [
  {
   "cell_type": "code",
   "execution_count": null,
   "metadata": {},
   "outputs": [],
   "source": [
    "# LSTM initialize with a zero vector\n",
    "\n",
    "# optimizer.zero_grad same as model.zero_grad\n",
    "\n",
    "# In every batch_size the length should remain same because mean is taken for batch_norm maybe\n",
    "# If no batches we either clip the long sentences or we add padding to the small sentences\n",
    "# we will create buckets for the batches()\n",
    "\n",
    "# Assignment\n",
    "# ------------\n",
    "# create bucket for batches\n",
    "# Deep Dream \n",
    "# neural art\n",
    "# neural transfer pytorch\n",
    "# download weights of some inception or something"
   ]
  }
 ],
 "metadata": {
  "kernelspec": {
   "display_name": "Python 2",
   "language": "python",
   "name": "python2"
  },
  "language_info": {
   "codemirror_mode": {
    "name": "ipython",
    "version": 2
   },
   "file_extension": ".py",
   "mimetype": "text/x-python",
   "name": "python",
   "nbconvert_exporter": "python",
   "pygments_lexer": "ipython2",
   "version": "2.7.12"
  }
 },
 "nbformat": 4,
 "nbformat_minor": 2
}
