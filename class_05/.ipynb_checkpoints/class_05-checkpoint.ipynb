{
 "cells": [
  {
   "cell_type": "code",
   "execution_count": 33,
   "metadata": {},
   "outputs": [],
   "source": [
    "import numpy as np \n",
    "import matplotlib as mpl"
   ]
  },
  {
   "cell_type": "code",
   "execution_count": 34,
   "metadata": {},
   "outputs": [
    {
     "name": "stdout",
     "output_type": "stream",
     "text": [
      "[[ 0.  0.]\n",
      " [ 0.  0.]\n",
      " [ 0.  0.]\n",
      " [ 0.  0.]\n",
      " [ 0.  0.]\n",
      " [ 0.  0.]\n",
      " [ 0.  0.]\n",
      " [ 0.  0.]\n",
      " [ 0.  0.]\n",
      " [ 0.  0.]]\n"
     ]
    }
   ],
   "source": [
    "n = 10\n",
    "X = np.zeros([n,2])\n",
    "\n",
    "def random():\n",
    "    r = np.random.random()\n",
    "\n",
    "\n",
    "mean_01 = np.array([0,0])\n",
    "mean_02 = np.array([3,4])\n",
    "\n",
    "cov_01 = np.array([])\n",
    "cov_02 = np.array([])\n",
    "\n",
    "#multivariate norml distribution"
   ]
  },
  {
   "cell_type": "code",
   "execution_count": 35,
   "metadata": {},
   "outputs": [
    {
     "name": "stdout",
     "output_type": "stream",
     "text": [
      "{0: {'colors': 'green', 'points': [], 'center': array([ 4.02724998, -4.1368328 ])}, 1: {'colors': 'blue', 'points': [], 'center': array([ 4.038148  , -8.63219834])}, 2: {'colors': 'red', 'points': [], 'center': array([-0.76589166, -3.92992466])}}\n"
     ]
    }
   ],
   "source": [
    "# create initial clusters\n",
    "k = 3\n",
    "\n",
    "colors = ['green', 'blue', 'red','orange', 'pink']\n",
    "\n",
    "clusters = {}\n",
    "\n",
    "for kx in range(k):\n",
    "    center = 10.0*(2*np.random.random(2,) - 1)\n",
    "    points = []\n",
    "    cluster = {\n",
    "        'center':center,\n",
    "        'points':points,\n",
    "        'colors':colors[kx]\n",
    "    }\n",
    "    clusters[kx] = cluster\n",
    "    \n",
    "print clusters"
   ]
  },
  {
   "cell_type": "code",
   "execution_count": 36,
   "metadata": {},
   "outputs": [],
   "source": [
    "# distance function \n",
    "def distance(x1,x2):\n",
    "    return np.sqrt(np.sum((x1-x2)**2))"
   ]
  },
  {
   "cell_type": "code",
   "execution_count": 38,
   "metadata": {},
   "outputs": [],
   "source": [
    "# for each point in dataset \n",
    "for ix in range(X.shape[0]): \n",
    "    dist = []\n",
    "    curr_x = X[ix] #current point\n",
    "    \n",
    "    for kx in range(k):\n",
    "        d = distance(curr_x, clusters[kx]['center'])\n",
    "        dist.append(d)\n",
    "    # Get the respective cluster for this point \n",
    "    current_cluster_id = np.argmin(dist)\n",
    "    clusters[current_cluster_id]['points'].append(curr_x)\n",
    "    \n",
    "for kx in range(k):\n",
    "    pts = np.array(clusters[kx]['points'])\n",
    "    clusters[kx]['coords'] = pts\n",
    "    \n",
    "    \n",
    "    \n",
    "# plt.figure(0)\n",
    "# plt.grid(\"on\")\n",
    "\n",
    "# for kx in range(k):\n",
    "#     pts = clusters[kx]['coords']\n",
    "    \n",
    "#     try:\n",
    "#         plt.scatter(pts[:,0],pts[:,1]), color = cluster[kx['color']]\n",
    "#     except:\n",
    "#         pass\n",
    "    \n",
    "#     center = clusters[kx]['center']\n",
    "#     plt.scatter(center[0],center[1],color='black', s=100, marker='')"
   ]
  },
  {
   "cell_type": "code",
   "execution_count": null,
   "metadata": {},
   "outputs": [],
   "source": [
    "# IP camera app download on mobile device\n",
    "# Use the github code to  connect and make server and apply algorithm developed by Sir\n",
    "\n",
    "# intialising of K means cluster is very important\n",
    "# Elgo method greedy method to choose K\n",
    "# scikit-learn initialization for k-means clustering\n",
    "# K Means is unsupervised algorithm so can be used anywhere you want even on the mnist data ste\n",
    "\n",
    "#PROBLEM STATEMENT\n",
    "# Most dominant color extraction like in whatsapp dp background.\n",
    "# reduce the color based on \n",
    "# 255,255,255\n",
    "# color matching distance matrix\n",
    "# scikit-learn examples k-means cluster\n",
    "\n",
    "# Random Forest and Decision Trees entropy method only\n",
    "\n",
    "#if you want add from source then virtualEnv line and add these in the virtualEnv "
   ]
  }
 ],
 "metadata": {
  "kernelspec": {
   "display_name": "Python 2",
   "language": "python",
   "name": "python2"
  },
  "language_info": {
   "codemirror_mode": {
    "name": "ipython",
    "version": 2
   },
   "file_extension": ".py",
   "mimetype": "text/x-python",
   "name": "python",
   "nbconvert_exporter": "python",
   "pygments_lexer": "ipython2",
   "version": "2.7.12"
  }
 },
 "nbformat": 4,
 "nbformat_minor": 2
}
