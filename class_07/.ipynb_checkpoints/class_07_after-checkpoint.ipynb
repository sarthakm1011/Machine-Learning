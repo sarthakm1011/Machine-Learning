{
 "cells": [
  {
   "cell_type": "code",
   "execution_count": 10,
   "metadata": {},
   "outputs": [],
   "source": [
    "# Assignment 1\n",
    "# Check the runtime and accuracy of KNN, DT, RF before and after PCA\n",
    "import numpy as np\n",
    "import pandas as pd\n",
    "from sklearn.datasets import load_wine\n",
    "import matplotlib.pyplot as plt\n",
    "%matplotlib inline\n",
    "from sklearn.cross_validation import train_test_split\n",
    "from  sklearn.ensemble import RandomForestClassifier\n",
    "from sklearn.tree import DecisionTreeClassifier\n",
    "from sklearn.neighbors import KNeighborsClassifier\n",
    "from sklearn.decomposition import PCA"
   ]
  },
  {
   "cell_type": "code",
   "execution_count": 50,
   "metadata": {},
   "outputs": [
    {
     "name": "stdout",
     "output_type": "stream",
     "text": [
      "(891, 12)\n",
      "(714, 8)\n"
     ]
    }
   ],
   "source": [
    "# data = load_wine()\n",
    "data = pd.read_csv('titanic.csv')\n",
    "print data.shape\n",
    "new_data = data.drop(['Name','Ticket','Cabin','Embarked'],axis=1)\n",
    "new_data['Sex'] = new_data['Sex'].map({'male':0,'female':1})\n",
    "new_data = new_data[np.isfinite(new_data['Age'])]\n",
    "new_data['Age'] = new_data['Age'].astype(int)\n",
    "new_data['Fare'] = new_data['Fare'].astype(int)\n",
    "new_data.head(5)\n",
    "print new_data.shape"
   ]
  },
  {
   "cell_type": "code",
   "execution_count": 57,
   "metadata": {},
   "outputs": [
    {
     "name": "stdout",
     "output_type": "stream",
     "text": [
      "WITHOUT PCA\n",
      "++++++++++++++++++++++++++++++++++++++++++++++++++\n",
      "Accuracy of Random Forest is 79.0697674419%\n",
      "Accuracy of Decision Tree is 74.4186046512%\n",
      "Accuracy of KNN is 69.3023255814%\n"
     ]
    }
   ],
   "source": [
    "# Data\n",
    "x = new_data.values[:,2:]\n",
    "y = new_data.values[:,1]\n",
    "x_train, x_test,y_train, y_test = train_test_split(x,y,test_size=0.3,random_state=100)\n",
    "\n",
    "print 'WITHOUT PCA'\n",
    "print '+'*50\n",
    "# Random Forest (WITOUHT PCA)\n",
    "random_forest = RandomForestClassifier(n_estimators=250,criterion='entropy')\n",
    "random_forest.fit(x_train,y_train)\n",
    "print 'Accuracy of Random Forest is %s%%'%(random_forest.score(x_test,y_test)*100)\n",
    "\n",
    "# Decision Trees (WITHOUT PCA)\n",
    "decision_tree = DecisionTreeClassifier(criterion='entropy',random_state=100,max_depth=3)\n",
    "decision_tree.fit(x_train,y_train)\n",
    "print 'Accuracy of Decision Tree is %s%%'%(decision_tree.score(x_test,y_test)*100)\n",
    "\n",
    "# K-Nearest-Neigbors (WITHOUT PCA)\n",
    "knn = KNeighborsClassifier(n_neighbors=5)\n",
    "knn.fit(x_train,y_train)\n",
    "print 'Accuracy of KNN is %s%%'%(knn.score(x_test,y_test)*100)"
   ]
  },
  {
   "cell_type": "code",
   "execution_count": 65,
   "metadata": {},
   "outputs": [
    {
     "name": "stdout",
     "output_type": "stream",
     "text": [
      "WITH PCA\n",
      "++++++++++++++++++++++++++++++++++++++++++++++++++\n",
      "[[ 3  0 22  1  0  7]\n",
      " [ 1  1 38  1  0 71]\n",
      " [ 3  1 26  0  0  7]\n",
      " ..., \n",
      " [ 1  1 19  0  0 30]\n",
      " [ 1  0 26  0  0 30]\n",
      " [ 3  0 32  0  0  7]]\n",
      "(714, 6)\n",
      "**************************************************\n",
      "[[-27.50209413  -6.90703441   0.04990699]\n",
      " [ 36.94603309   7.2755891    0.09488441]\n",
      " [-27.38826414  -2.89341298  -0.52491938]\n",
      " ..., \n",
      " [ -4.58159885 -10.51066103  -0.99773177]\n",
      " [ -4.38283459  -3.51307318  -0.89727482]\n",
      " [-27.21813424   3.10505613  -0.4503838 ]]\n",
      "(714, 3)\n"
     ]
    }
   ],
   "source": [
    "print 'WITH PCA'\n",
    "print '+'*50\n",
    "\n",
    "# Dimensionality Reduction \n",
    "pca = PCA(3) # Number of dimensions\n",
    "pca.fit(x)\n",
    "new_x = pca.transform(x) # reduction\n",
    "print x\n",
    "print x.shape\n",
    "print '*'*50\n",
    "print new_x\n",
    "print new_x.shape\n",
    "\n"
   ]
  },
  {
   "cell_type": "code",
   "execution_count": null,
   "metadata": {},
   "outputs": [],
   "source": []
  }
 ],
 "metadata": {
  "kernelspec": {
   "display_name": "Python 2",
   "language": "python",
   "name": "python2"
  },
  "language_info": {
   "codemirror_mode": {
    "name": "ipython",
    "version": 2
   },
   "file_extension": ".py",
   "mimetype": "text/x-python",
   "name": "python",
   "nbconvert_exporter": "python",
   "pygments_lexer": "ipython2",
   "version": "2.7.12"
  }
 },
 "nbformat": 4,
 "nbformat_minor": 2
}
