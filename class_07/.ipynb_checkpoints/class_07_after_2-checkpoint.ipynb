{
 "cells": [
  {
   "cell_type": "code",
   "execution_count": null,
   "metadata": {},
   "outputs": [],
   "source": [
    "# T-SNE\n",
    "# t-Distributed Stochastic Neighbor Embedding\n",
    "# Used for dimensionality reduction. It is more effective than PCA\n",
    "# Non-Linear Dimensionality reduction \n",
    "# Based on probability distributions to find structure betwen data\n",
    "\n",
    "# PCA is a linear dimensionality reduction algorithm \n",
    "# In PCA similar data points are represented far away also (highest varience in an axis)\n",
    "# In t-sne similar data points must remain close togethter\n",
    "\n",
    "# Major Drawback\n",
    "# Quadratic time and space complexity\n",
    "\n",
    "# It will give you a very good sense of patterns hidden inside the data (exploration)\n",
    "# It can be used as an input parameter for other classification & clustering algorithms.\n",
    "\n",
    "from sklearn.manifold import TSNE\n",
    "tsne = manifold.TSNE(n_components=2, init='pca', random_state=0)\n",
    "x_tsne = tsne.fit_transform(x)"
   ]
  }
 ],
 "metadata": {
  "kernelspec": {
   "display_name": "Python 2",
   "language": "python",
   "name": "python2"
  },
  "language_info": {
   "codemirror_mode": {
    "name": "ipython",
    "version": 2
   },
   "file_extension": ".py",
   "mimetype": "text/x-python",
   "name": "python",
   "nbconvert_exporter": "python",
   "pygments_lexer": "ipython2",
   "version": "2.7.12"
  }
 },
 "nbformat": 4,
 "nbformat_minor": 2
}
