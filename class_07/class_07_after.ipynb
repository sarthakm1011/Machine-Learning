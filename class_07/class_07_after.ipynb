{
 "cells": [
  {
   "cell_type": "code",
   "execution_count": 1,
   "metadata": {},
   "outputs": [
    {
     "name": "stderr",
     "output_type": "stream",
     "text": [
      "/usr/local/lib/python2.7/dist-packages/sklearn/cross_validation.py:41: DeprecationWarning: This module was deprecated in version 0.18 in favor of the model_selection module into which all the refactored classes and functions are moved. Also note that the interface of the new CV iterators are different from that of this module. This module will be removed in 0.20.\n",
      "  \"This module will be removed in 0.20.\", DeprecationWarning)\n"
     ]
    }
   ],
   "source": [
    "# Assignment 1\n",
    "# Check the runtime and accuracy of KNN, DT, RF before and after PCA\n",
    "import numpy as np\n",
    "import pandas as pd\n",
    "from sklearn.datasets import load_wine\n",
    "import matplotlib.pyplot as plt\n",
    "%matplotlib inline\n",
    "from sklearn.cross_validation import train_test_split\n",
    "from  sklearn.ensemble import RandomForestClassifier\n",
    "from sklearn.tree import DecisionTreeClassifier\n",
    "from sklearn.neighbors import KNeighborsClassifier\n",
    "from sklearn.decomposition import PCA\n",
    "from datetime import datetime"
   ]
  },
  {
   "cell_type": "code",
   "execution_count": 86,
   "metadata": {},
   "outputs": [
    {
     "name": "stdout",
     "output_type": "stream",
     "text": [
      "(891, 12)\n",
      "(714, 8)\n"
     ]
    }
   ],
   "source": [
    "# data = load_wine()\n",
    "data = pd.read_csv('titanic.csv')\n",
    "print data.shape\n",
    "new_data = data.drop(['Name','Ticket','Cabin','Embarked'],axis=1)\n",
    "new_data['Sex'] = new_data['Sex'].map({'male':0,'female':1})\n",
    "new_data = new_data[np.isfinite(new_data['Age'])]\n",
    "new_data['Age'] = new_data['Age'].astype(int)\n",
    "new_data['Fare'] = new_data['Fare'].astype(int)\n",
    "new_data.head(5)\n",
    "print new_data.shape"
   ]
  },
  {
   "cell_type": "code",
   "execution_count": 90,
   "metadata": {},
   "outputs": [
    {
     "name": "stdout",
     "output_type": "stream",
     "text": [
      "WITHOUT PCA\n",
      "++++++++++++++++++++++++++++++++++++++++++++++++++\n",
      "Accuracy of Random Forest is 79.5348837209%\n",
      "Accuracy of Decision Tree is 74.4186046512%\n",
      "Accuracy of KNN is 69.3023255814%\n"
     ]
    }
   ],
   "source": [
    "# Data\n",
    "x = new_data.values[:,2:]\n",
    "y = new_data.values[:,1]\n",
    "x_train, x_test,y_train, y_test = train_test_split(x,y,test_size=0.3,random_state=100)\n",
    "\n",
    "print datetime.time().now()\n",
    "print 'WITHOUT PCA'\n",
    "print '+'*50\n",
    "# Random Forest (WITOUHT PCA)\n",
    "random_forest = RandomForestClassifier(n_estimators=250,criterion='entropy')\n",
    "random_forest.fit(x_train,y_train)\n",
    "print 'Accuracy of Random Forest is %s%%'%(random_forest.score(x_test,y_test)*100)\n",
    "\n",
    "# Decision Trees (WITHOUT PCA)\n",
    "decision_tree = DecisionTreeClassifier(criterion='entropy',random_state=100,max_depth=3)\n",
    "decision_tree.fit(x_train,y_train)\n",
    "print 'Accuracy of Decision Tree is %s%%'%(decision_tree.score(x_test,y_test)*100)\n",
    "\n",
    "# K-Nearest-Neigbors (WITHOUT PCA)\n",
    "knn = KNeighborsClassifier(n_neighbors=5)\n",
    "knn.fit(x_train,y_train)\n",
    "print 'Accuracy of KNN is %s%%'%(knn.score(x_test,y_test)*100)"
   ]
  },
  {
   "cell_type": "code",
   "execution_count": 91,
   "metadata": {},
   "outputs": [
    {
     "name": "stdout",
     "output_type": "stream",
     "text": [
      "WITH PCA\n",
      "++++++++++++++++++++++++++++++++++++++++++++++++++\n",
      "Accuracy of Random Forest with PCA is 70.6976744186%\n",
      "Accuracy of Decision Tree with PCA is 67.9069767442%\n",
      "Accuracy of KNN with PCA is 66.976744186%\n"
     ]
    }
   ],
   "source": [
    "print 'WITH PCA'\n",
    "print '+'*50\n",
    "\n",
    "# Dimensionality Reduction \n",
    "pca = PCA(3) # Number of dimensions\n",
    "new_x = pca.fit_transform(x)\n",
    "\n",
    "\n",
    "# print 'x shape: ' + str(x.shape)\n",
    "# print 'new_x shape: ' +str(new_x.shape)\n",
    "# print 'y shape: ' + str(y.shape)\n",
    "# print '*'*50\n",
    "\n",
    "y = new_data.values[:,1]\n",
    "x_train, x_test,y_train, y_test = train_test_split(new_x,y,test_size=0.3,random_state=100)\n",
    "\n",
    "# Random Forest (WITH PCA)\n",
    "random_forest = RandomForestClassifier(n_estimators=250,criterion='entropy')\n",
    "random_forest.fit(x_train,y_train)\n",
    "print 'Accuracy of Random Forest with PCA is %s%%'%(random_forest.score(x_test,y_test)*100)\n",
    "\n",
    "# Decision Trees (WITH PCA)\n",
    "decision_tree = DecisionTreeClassifier(criterion='entropy',random_state=100,max_depth=3)\n",
    "decision_tree.fit(x_train,y_train)\n",
    "print 'Accuracy of Decision Tree with PCA is %s%%'%(decision_tree.score(x_test,y_test)*100)\n",
    "\n",
    "# K-Nearest-Neigbors (WITH PCA)\n",
    "knn = KNeighborsClassifier(n_neighbors=5)\n",
    "knn.fit(x_train,y_train)\n",
    "print 'Accuracy of KNN with PCA is %s%%'%(knn.score(x_test,y_test)*100)\n"
   ]
  },
  {
   "cell_type": "code",
   "execution_count": null,
   "metadata": {},
   "outputs": [],
   "source": []
  }
 ],
 "metadata": {
  "kernelspec": {
   "display_name": "Python 2",
   "language": "python",
   "name": "python2"
  },
  "language_info": {
   "codemirror_mode": {
    "name": "ipython",
    "version": 2
   },
   "file_extension": ".py",
   "mimetype": "text/x-python",
   "name": "python",
   "nbconvert_exporter": "python",
   "pygments_lexer": "ipython2",
   "version": "2.7.12"
  }
 },
 "nbformat": 4,
 "nbformat_minor": 2
}
