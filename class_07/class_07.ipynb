{
 "cells": [
  {
   "cell_type": "code",
   "execution_count": null,
   "metadata": {},
   "outputs": [],
   "source": [
    "# vector space\n",
    "# vector span\n",
    "# Eigen Vectors = Those vectors that retain there span even after applying some transformation \n",
    "# Eigen Values = Magnitude of these vectors\n",
    "# 90 degree rotation diagonal values 0\n",
    "# 180 degree rotation non diagonal values = 0\n",
    "# PCA\n",
    "# PCA improves the accuracy of random forest as this reduces dimensions by removing the lowest \n",
    "# contributing features hence removing the noisy features\n",
    "# T-SNE = State of art algorithm for research papers\n",
    "\n",
    "# DOUBTS\n",
    "# Random State variable attribute in random forest and DT\n",
    "\n",
    "# Next class = Linear Regression & Logistic Regression\n",
    "\n",
    "# Assignment_1 = Class PCA complete the function \n",
    "# Assignement_2 = Check the accuracy and time for Knn, DT, Random Forest before and after PCA\n",
    "\n"
   ]
  }
 ],
 "metadata": {
  "kernelspec": {
   "display_name": "Python 2",
   "language": "python",
   "name": "python2"
  },
  "language_info": {
   "codemirror_mode": {
    "name": "ipython",
    "version": 2
   },
   "file_extension": ".py",
   "mimetype": "text/x-python",
   "name": "python",
   "nbconvert_exporter": "python",
   "pygments_lexer": "ipython2",
   "version": "2.7.12"
  }
 },
 "nbformat": 4,
 "nbformat_minor": 2
}
