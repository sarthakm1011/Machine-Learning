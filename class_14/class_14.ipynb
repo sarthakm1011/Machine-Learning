{
 "cells": [
  {
   "cell_type": "code",
   "execution_count": 1,
   "metadata": {},
   "outputs": [
    {
     "ename": "SyntaxError",
     "evalue": "invalid syntax (<ipython-input-1-1c61083ed323>, line 7)",
     "output_type": "error",
     "traceback": [
      "\u001b[0;36m  File \u001b[0;32m\"<ipython-input-1-1c61083ed323>\"\u001b[0;36m, line \u001b[0;32m7\u001b[0m\n\u001b[0;31m    one to one = regular neural network\u001b[0m\n\u001b[0m         ^\u001b[0m\n\u001b[0;31mSyntaxError\u001b[0m\u001b[0;31m:\u001b[0m invalid syntax\n"
     ]
    }
   ],
   "source": [
    "# RNN and LSTMS\n",
    "# Harry potter and Game of Thrones\n",
    "\n",
    "# Maths of backpropogation of rnn\n",
    "\n",
    "# Andre Kaprthy\n",
    "one to one = regular neural network\n",
    "one to many  = image captioning(fixed)\n",
    "many to one  = \n",
    "many to many = sequence to sequence model = text, music or any other generation\n",
    "many to many = at every time step output = anomaly detection, video classification\n",
    "# max 2-3 recurrent cells for lower and higher level context\n",
    "# Directed Acyclic graph\n",
    "\n",
    "# tanh can be used to keep non linearity and applying activation\n",
    "# but ReLU better if there is chance of vaishing or exploding gradient descent\n",
    "\n",
    "# rnn alwasys return 2 things output and hidden_state\n",
    "# np.newaxis is same as '-1' in numpy"
   ]
  },
  {
   "cell_type": "code",
   "execution_count": null,
   "metadata": {},
   "outputs": [],
   "source": [
    "Assignment\n",
    "----------\n",
    "lstm\n",
    "word2vec\n",
    "andre kaprthy blog rnn\n",
    "space search odyssey\n",
    "got write book\n",
    "read about attention mechanism\n",
    "do pytorch all examples documentation \n",
    "\n",
    "Done\n",
    "--------\n",
    "rnn"
   ]
  }
 ],
 "metadata": {
  "kernelspec": {
   "display_name": "Python 2",
   "language": "python",
   "name": "python2"
  },
  "language_info": {
   "codemirror_mode": {
    "name": "ipython",
    "version": 2
   },
   "file_extension": ".py",
   "mimetype": "text/x-python",
   "name": "python",
   "nbconvert_exporter": "python",
   "pygments_lexer": "ipython2",
   "version": "2.7.12"
  }
 },
 "nbformat": 4,
 "nbformat_minor": 2
}
